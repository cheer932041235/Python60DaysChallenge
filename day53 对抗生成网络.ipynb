{
 "cells": [
  {
   "cell_type": "markdown",
   "id": "1363d21d",
   "metadata": {},
   "source": [
    "# DAY 53"
   ]
  },
  {
   "cell_type": "markdown",
   "id": "c99ccb6d",
   "metadata": {},
   "source": [
    "## 一、 GAN对抗生成网络思想"
   ]
  },
  {
   "cell_type": "markdown",
   "id": "7b0b4e6d",
   "metadata": {},
   "source": [
    "先说一下gan的原理，我们之前就说过，无论是多么复杂的架构设计，你最需要把握的核心点就是：1. 损失从何而来 2. 损失如何定义\n",
    "\n",
    "假设现在有1个造假币的a，和一个警察b，他们都是初始化的神经网络\n",
    "\n",
    "为了让警察能分辨真币，我需要给他看真币的样子，也就是先训练警察知道什么是真币，但是只给他一个真币他也没法训练，我中间得掺杂一些无意义的噪声图片，无意义的肯定不可能是真币，所以他大概可以训练好。此时他就是一个基础的分类模型，能分别真币和假币\n",
    "\n",
    "然后我随机初始化这个造假币的a，我每次给他随机的输入，他会生成不同的假币，每一张假币都会让警察来判断，警察能够分别出真假，如果说你是假的，那么造假币的就要更新参数，如果是真的，那么造假币的参数就不用更新，警察要更新参数。所以后续二者就在不断博弈中进步，知道最后假币专家造假以假乱真，只要更新的轮数多，即使骗不过专家，但是也很棒了。\n",
    "\n",
    "我们把这个造假币的叫做生成器，把这个警察叫做判别器\n",
    "\n",
    "这个过程有点类似于二者互相对抗，所以叫做对抗生成网络，目的就是在对抗中找到一个可以模仿原有数据的模型。生成器基于随机噪声生成样本，判别器对样本（真实数据 + 生成数据）进行分类，双方根据判别结果更新参数（生成器尝试让判别器误判，判别器尝试提高准确率）。\n",
    "\n",
    "他的损失由2部分构成，生成器的损失和判别器的损失。判别器的损失定义在先，生成器的损失定义基于判别器的反馈。\n",
    "1. 判别器的损失：就是分类问题的损失，二分类是二元交叉熵损失BCE（本质分类输出的是概率，并不是非黑即白）\n",
    "\n",
    "2. 生成器的损失：依靠判别器的损失，如果判别器说是假的，生成器的损失就大，反之亦然。\n",
    "\n",
    "判别器损失同时包含 “真实数据判真” 和 “生成数据判假” 两部分，而生成器损失仅针对 “生成数据被判别为真” 的目标。实际训练中，两者的优化是交替进行的（先训判别器，再训生成器）。两者的损失共同推动 GAN 逼近 “以假乱真” 的平衡状态。"
   ]
  },
  {
   "cell_type": "markdown",
   "id": "dd8c5dcd",
   "metadata": {},
   "source": [
    "日常中，我们经常遇到不平衡数据中某一类别样本过少，之前说过结构化数据有smote等过采样方式来提高，图像数据可以数据增强，还可以设置权重等方式来"
   ]
  },
  {
   "cell_type": "code",
   "execution_count": 3,
   "id": "046c384c",
   "metadata": {},
   "outputs": [
    {
     "name": "stdout",
     "output_type": "stream",
     "text": [
      "使用设备: cuda\n",
      "Using device: cuda\n",
      "成功加载并预处理数据。用于训练的样本数量: 50\n",
      "数据特征维度: 4\n"
     ]
    }
   ],
   "source": [
    "import torch\n",
    "import torch.nn as nn\n",
    "import torch.optim as optim\n",
    "from torch.utils.data import DataLoader, TensorDataset\n",
    "import numpy as np\n",
    "import pandas as pd\n",
    "from sklearn.preprocessing import MinMaxScaler\n",
    "from sklearn.datasets import load_iris\n",
    "import matplotlib.pyplot as plt\n",
    "import warnings\n",
    "warnings.filterwarnings(\"ignore\")\n",
    "# 设置中文字体支持\n",
    "plt.rcParams[\"font.family\"] = [\"SimHei\"]\n",
    "plt.rcParams['axes.unicode_minus'] = False  # 解决负号显示问题\n",
    "\n",
    "# 检查GPU是否可用\n",
    "device = torch.device(\"cuda\" if torch.cuda.is_available() else \"cpu\")\n",
    "print(f\"使用设备: {device}\")\n",
    "\n",
    "LATENT_DIM = 10     # 潜在空间的维度，这里根据任务复杂程度任选\n",
    "EPOCHS = 10000      # 训练的回合数，一般需要比较长的时间\n",
    "BATCH_SIZE = 32     # 每批次训练的样本数\n",
    "LR = 0.0002         # 学习率\n",
    "BETA1 = 0.5         # Adam优化器的参数\n",
    "\n",
    "# 检查是否有可用的GPU，否则使用CPU\n",
    "device = torch.device(\"cuda\" if torch.cuda.is_available() else \"cpu\")\n",
    "print(f\"Using device: {device}\")\n",
    "\n",
    "# --- 2. 加载并预处理数据 ---\n",
    "\n",
    "iris = load_iris()\n",
    "X = iris.data\n",
    "y = iris.target\n",
    "\n",
    "# 只选择 'Setosa' (类别 0)\n",
    "X_class0 = X[y == 0] # 一种简便写法\n",
    "\n",
    "# 数据缩放到 [-1, 1]\n",
    "scaler = MinMaxScaler(feature_range=(-1, 1)) \n",
    "X_scaled = scaler.fit_transform(X_class0) \n",
    " \n",
    "# 转换为 PyTorch Tensor 并创建 DataLoader\n",
    "# 注意需要将数据类型转为 float\n",
    "real_data_tensor = torch.from_numpy(X_scaled).float() \n",
    "dataset = TensorDataset(real_data_tensor)\n",
    "dataloader = DataLoader(dataset, batch_size=BATCH_SIZE, shuffle=True)\n",
    "\n",
    "print(f\"成功加载并预处理数据。用于训练的样本数量: {len(X_scaled)}\")\n",
    "print(f\"数据特征维度: {X_scaled.shape[1]}\")"
   ]
  },
  {
   "cell_type": "markdown",
   "id": "abbca753",
   "metadata": {},
   "source": [
    "## 二、 生成器"
   ]
  },
  {
   "cell_type": "code",
   "execution_count": 4,
   "id": "de8dc37a",
   "metadata": {},
   "outputs": [],
   "source": [
    "# --- 3. 构建模型 ---\n",
    "\n",
    "# (A) 生成器 (Generator)\n",
    "class Generator(nn.Module):\n",
    "    def __init__(self):\n",
    "        super(Generator, self).__init__()\n",
    "        self.model = nn.Sequential(\n",
    "            nn.Linear(LATENT_DIM, 16),\n",
    "            nn.ReLU(),\n",
    "            nn.Linear(16, 32),\n",
    "            nn.ReLU(),\n",
    "            nn.Linear(32, 4),# 最后的维度只要和目标数据对齐即可\n",
    "            nn.Tanh() # 输出范围是 [-1, 1]\n",
    "        )\n",
    "\n",
    "    def forward(self, x):\n",
    "        return self.model(x) # 因为没有像之前一样做定义x=某些东西，所以现在可以直接输出模型"
   ]
  },
  {
   "cell_type": "markdown",
   "id": "9e58ebee",
   "metadata": {},
   "source": [
    "### 2.1 nn.Sequential容器"
   ]
  },
  {
   "cell_type": "markdown",
   "id": "06826eb3",
   "metadata": {},
   "source": [
    "这里我们用了torch中的容器这个概念，sequential是一个按顺序存放神经网络的容器，这样写神经网路的属性的时候，把这些内容都写在一个容器中，然后作为属性，后面定义前向传播的视时候会方便很多。\n",
    "\n",
    "除了nn.sequential这种按顺序运算的容器,还有一些其他的容器，比如nn.ModuleList对于消融实验会起到简化代码的作用，有机会我们未来再说。"
   ]
  },
  {
   "cell_type": "markdown",
   "id": "06b6c882",
   "metadata": {},
   "source": [
    "这种写法很好用，比如像encoder-decoder架构（之前复试课说了），就可以借助这种写法来实现简单的定义前向传播"
   ]
  },
  {
   "cell_type": "code",
   "execution_count": 5,
   "id": "441c7c45",
   "metadata": {},
   "outputs": [],
   "source": [
    "# def forward(self, x):\n",
    "#     x = self.encoder(x)\n",
    "#     x = self.decoder(x)\n",
    "#     return x"
   ]
  },
  {
   "cell_type": "markdown",
   "id": "0fefe403",
   "metadata": {},
   "source": [
    "当网络结构不满足线性顺序执行时（如包含残差连接、多分支、条件判断等），必须手动编写forward()方法。例如："
   ]
  },
  {
   "cell_type": "code",
   "execution_count": 6,
   "id": "68047a3c",
   "metadata": {},
   "outputs": [],
   "source": [
    "# def forward(self, x):\n",
    "#     identity = x\n",
    "#     out = self.conv1(x)\n",
    "#     out = self.relu(out)\n",
    "#     out = self.conv2(out)\n",
    "#     out += identity  # 残差连接（无法用Sequential实现）\n",
    "#     return self.relu(out)"
   ]
  },
  {
   "cell_type": "markdown",
   "id": "6702521a",
   "metadata": {},
   "source": [
    "这是一个残差连接的写法，无法用sequential这个容器按顺序搭建。"
   ]
  },
  {
   "cell_type": "markdown",
   "id": "53b3fcb5",
   "metadata": {},
   "source": [
    "总结：\n",
    "\n",
    "- 对于网络层按线性顺序堆叠（如 MLP、CNN 的主体部分），可以使用 Sequential 模型。\n",
    "- 对于网络包含复杂分支结构（如 ResNet 的残差连接、Inception 的多分支），建议手动编写forward()方法。\n",
    "\n",
    "这两种方式本质上是等价的，但前者更符合模块化编程的思想，能让你的代码更易读、易维护。\n",
    "\n",
    "不得不说，代码其实本质上就是几个常见的运算，但是由于不断封装，具备了各种各样的类、属性、语法糖等等写法。"
   ]
  },
  {
   "cell_type": "markdown",
   "id": "fdfed431",
   "metadata": {},
   "source": [
    "## 三、判别器"
   ]
  },
  {
   "cell_type": "code",
   "execution_count": 7,
   "id": "1dcdb8e1",
   "metadata": {},
   "outputs": [],
   "source": [
    "# (B) 判别器 (Discriminator)\n",
    "class Discriminator(nn.Module):\n",
    "    def __init__(self):\n",
    "        super(Discriminator, self).__init__()\n",
    "        self.model = nn.Sequential(\n",
    "            nn.Linear(4, 32),\n",
    "            nn.LeakyReLU(0.2), # LeakyReLU 是 GAN 中的常用选择\n",
    "            nn.Linear(32, 16),\n",
    "            nn.LeakyReLU(0.2), # 负斜率参数为0.2\n",
    "            nn.Linear(16, 1), # 这里最后输出1个神经元,所以用sigmoid激活函数\n",
    "            nn.Sigmoid() # 输出 0 到 1 的概率\n",
    "        )\n",
    "\n",
    "    def forward(self, x):\n",
    "        return self.model(x)"
   ]
  },
  {
   "cell_type": "markdown",
   "id": "0e33296f",
   "metadata": {},
   "source": [
    "### 3.1 分类问题激活函数和损失函数的对应"
   ]
  },
  {
   "cell_type": "markdown",
   "id": "15a305c5",
   "metadata": {},
   "source": [
    "之前这里说的比较浅，我们再概括下激活函数和损失函数对应的情况：\n",
    "\n",
    "二分类问题,常见的输出有2种\n",
    "\n",
    "\n",
    "1. 单输出 + Sigmoid\n",
    "2.  双输出 + Softmax\n",
    "\n",
    "\n",
    "二者完全等价,一般推荐第一个\n",
    "\n",
    "sigmoid一般对应BCE损失，softmax一般对应 CrossEntropy 损失"
   ]
  },
  {
   "cell_type": "markdown",
   "id": "52811a1f",
   "metadata": {},
   "source": [
    "### 3.2 LeakyReLU"
   ]
  },
  {
   "cell_type": "markdown",
   "id": "9c4ec17e",
   "metadata": {},
   "source": [
    "此外，在昨天的神经网络调参指南中，我们就说到了激活函数的选取，我说还有了LeakyReLU这种形式\n",
    "\n",
    "标准relu: f(x) = max(0, x)  小于0的输入直接置为0,计算简单，能缓解梯度消失问题，引入非线性。存在 “神经元死亡” 问题（当输入为负时，梯度为 0，参数无法更新）\n",
    "\n",
    "LeakyReLU: f(x) = max(0.01x, x)   对负数输入保留一个小的梯度（如0.01倍）,在输入为负时，仍有非零梯度（如 0.01），避免神经元永久死亡\n",
    "\n",
    "\n",
    "许多 GAN 变体（如 DCGAN、WGAN）都默认使用 LeakyReLU，实践证明它能显著提高模型收敛速度和生成质量。"
   ]
  },
  {
   "cell_type": "code",
   "execution_count": 8,
   "id": "e3910da6",
   "metadata": {},
   "outputs": [
    {
     "name": "stdout",
     "output_type": "stream",
     "text": [
      "Generator(\n",
      "  (model): Sequential(\n",
      "    (0): Linear(in_features=10, out_features=16, bias=True)\n",
      "    (1): ReLU()\n",
      "    (2): Linear(in_features=16, out_features=32, bias=True)\n",
      "    (3): ReLU()\n",
      "    (4): Linear(in_features=32, out_features=4, bias=True)\n",
      "    (5): Tanh()\n",
      "  )\n",
      ")\n",
      "Discriminator(\n",
      "  (model): Sequential(\n",
      "    (0): Linear(in_features=4, out_features=32, bias=True)\n",
      "    (1): LeakyReLU(negative_slope=0.2)\n",
      "    (2): Linear(in_features=32, out_features=16, bias=True)\n",
      "    (3): LeakyReLU(negative_slope=0.2)\n",
      "    (4): Linear(in_features=16, out_features=1, bias=True)\n",
      "    (5): Sigmoid()\n",
      "  )\n",
      ")\n"
     ]
    }
   ],
   "source": [
    "# 实例化模型并移动到指定设备\n",
    "generator = Generator().to(device)\n",
    "discriminator = Discriminator().to(device)\n",
    "\n",
    "print(generator)\n",
    "print(discriminator)\n",
    "\n",
    "# --- 4. 定义损失函数和优化器 ---\n",
    "\n",
    "criterion = nn.BCELoss() # 二元交叉熵损失\n",
    "\n",
    "# 分别为生成器和判别器设置优化器\n",
    "g_optimizer = optim.Adam(generator.parameters(), lr=LR, betas=(BETA1, 0.999))\n",
    "d_optimizer = optim.Adam(discriminator.parameters(), lr=LR, betas=(BETA1, 0.999))\n"
   ]
  },
  {
   "cell_type": "code",
   "execution_count": null,
   "id": "052184a5",
   "metadata": {},
   "outputs": [
    {
     "name": "stdout",
     "output_type": "stream",
     "text": [
      "\n",
      "--- 开始训练 ---\n",
      "Epoch [1000/10000], Discriminator Loss: 1.2934, Generator Loss: 0.8093\n",
      "Epoch [2000/10000], Discriminator Loss: 1.3146, Generator Loss: 0.7411\n",
      "Epoch [3000/10000], Discriminator Loss: 1.3665, Generator Loss: 0.7093\n",
      "Epoch [4000/10000], Discriminator Loss: 1.3775, Generator Loss: 0.6901\n",
      "Epoch [5000/10000], Discriminator Loss: 1.3592, Generator Loss: 0.6998\n",
      "Epoch [6000/10000], Discriminator Loss: 1.3706, Generator Loss: 0.7035\n",
      "Epoch [7000/10000], Discriminator Loss: 1.3499, Generator Loss: 0.7026\n",
      "Epoch [8000/10000], Discriminator Loss: 1.3553, Generator Loss: 0.7325\n",
      "Epoch [9000/10000], Discriminator Loss: 1.3449, Generator Loss: 0.7348\n",
      "Epoch [10000/10000], Discriminator Loss: 1.3182, Generator Loss: 0.7244\n",
      "--- 训练完成 ---\n"
     ]
    }
   ],
   "source": [
    "\n",
    "# --- 5. 执行训练循环 ---\n",
    "\n",
    "print(\"\\n--- 开始训练 ---\")\n",
    "for epoch in range(EPOCHS):\n",
    "    for i, (real_data,) in enumerate(dataloader):\n",
    "        # 将数据移动到设备\n",
    "        real_data = real_data.to(device)\n",
    "        current_batch_size = real_data.size(0)\n",
    "\n",
    "        # 创建真实和虚假的标签\n",
    "        real_labels = torch.ones(current_batch_size, 1).to(device)\n",
    "        fake_labels = torch.zeros(current_batch_size, 1).to(device)\n",
    "\n",
    "        # ---------------------\n",
    "        #  训练判别器\n",
    "        # ---------------------\n",
    "        d_optimizer.zero_grad() # 梯度清零\n",
    "\n",
    "        # (1) 用真实数据训练\n",
    "        real_output = discriminator(real_data)\n",
    "        d_loss_real = criterion(real_output, real_labels)\n",
    "        \n",
    "        # (2) 用假数据训练\n",
    "        noise = torch.randn(current_batch_size, LATENT_DIM).to(device)\n",
    "        # 使用 .detach() 防止在训练判别器时梯度流回生成器，这里我们未来再说\n",
    "        fake_data = generator(noise).detach() \n",
    "        fake_output = discriminator(fake_data)\n",
    "        d_loss_fake = criterion(fake_output, fake_labels)\n",
    "        \n",
    "        # 总损失并反向传播\n",
    "        d_loss = d_loss_real + d_loss_fake\n",
    "        d_loss.backward()\n",
    "        d_optimizer.step()\n",
    "\n",
    "        # ---------------------\n",
    "        #  训练生成器\n",
    "        # ---------------------\n",
    "        g_optimizer.zero_grad() # 梯度清零\n",
    "\n",
    "        # 生成新的假数据，并尝试\"欺骗\"判别器\n",
    "        noise = torch.randn(current_batch_size, LATENT_DIM).to(device)\n",
    "        fake_data = generator(noise)\n",
    "        fake_output = discriminator(fake_data)\n",
    "        \n",
    "        # 计算生成器的损失，目标是让判别器将假数据误判为真(1)\n",
    "        g_loss = criterion(fake_output, real_labels)\n",
    "        \n",
    "        # 反向传播并更新生成器\n",
    "        g_loss.backward()\n",
    "        g_optimizer.step()\n",
    "\n",
    "    # 每 1000 个 epoch 打印一次训练状态\n",
    "    if (epoch + 1) % 1000 == 0:\n",
    "        print(\n",
    "            f\"Epoch [{epoch+1}/{EPOCHS}], \"\n",
    "            f\"Discriminator Loss: {d_loss.item():.4f}, \"\n",
    "            f\"Generator Loss: {g_loss.item():.4f}\"\n",
    "        )\n",
    "\n",
    "print(\"--- 训练完成 ---\")"
   ]
  },
  {
   "cell_type": "markdown",
   "id": "1a4b7e30",
   "metadata": {},
   "source": []
  },
  {
   "cell_type": "code",
   "execution_count": 10,
   "id": "3e305f54",
   "metadata": {},
   "outputs": [
    {
     "name": "stdout",
     "output_type": "stream",
     "text": [
      "\n",
      "--- 生成并可视化结果 ---\n"
     ]
    },
    {
     "data": {
      "image/png": "[encoded data removed]",
      "text/plain": [
       "<Figure size 1200x1000 with 4 Axes>"
      ]
     },
     "metadata": {},
     "output_type": "display_data"
    },
    {
     "name": "stdout",
     "output_type": "stream",
     "text": [
      "\n",
      "前5个真实样本 (Setosa):\n",
      "   sepal length (cm)  sepal width (cm)  petal length (cm)  petal width (cm)\n",
      "0                5.1               3.5                1.4               0.2\n",
      "1                4.9               3.0                1.4               0.2\n",
      "2                4.7               3.2                1.3               0.2\n",
      "3                4.6               3.1                1.5               0.2\n",
      "4                5.0               3.6                1.4               0.2\n",
      "\n",
      "GAN生成的5个新样本:\n",
      "   sepal length (cm)  sepal width (cm)  petal length (cm)  petal width (cm)\n",
      "0           4.320492          2.661918           1.386190          0.242133\n",
      "1           4.977553          3.303130           1.497289          0.186877\n",
      "2           4.926282          3.197162           1.510863          0.170230\n",
      "3           4.305457          2.951858           1.087415          0.149636\n",
      "4           5.188134          3.727965           1.434129          0.220814\n"
     ]
    }
   ],
   "source": [
    "# --- 6. 生成新数据并进行可视化对比 ---\n",
    "\n",
    "print(\"\\n--- 生成并可视化结果 ---\")\n",
    "# 将生成器设为评估模式\n",
    "generator.eval()\n",
    "\n",
    "# 使用 torch.no_grad() 来关闭梯度计算\n",
    "with torch.no_grad():\n",
    "    num_new_samples = 50\n",
    "    noise = torch.randn(num_new_samples, LATENT_DIM).to(device)\n",
    "    generated_data_scaled = generator(noise)\n",
    "\n",
    "# 将生成的数据从GPU移到CPU，并转换为numpy数组\n",
    "generated_data_scaled_np = generated_data_scaled.cpu().numpy()\n",
    "\n",
    "# 逆向转换回原始尺度\n",
    "generated_data = scaler.inverse_transform(generated_data_scaled_np)\n",
    "real_data_original_scale = scaler.inverse_transform(X_scaled)\n",
    "\n",
    "# 可视化对比\n",
    "fig, axes = plt.subplots(2, 2, figsize=(12, 10))\n",
    "fig.suptitle('真实数据 vs. GAN生成数据 的特征分布对比 (PyTorch)', fontsize=16)\n",
    "\n",
    "feature_names = iris.feature_names\n",
    "\n",
    "for i, ax in enumerate(axes.flatten()):\n",
    "    ax.hist(real_data_original_scale[:, i], bins=10, density=True, alpha=0.6, label='Real Data')\n",
    "    ax.hist(generated_data[:, i], bins=10, density=True, alpha=0.6, label='Generated Data')\n",
    "    ax.set_title(feature_names[i])\n",
    "    ax.legend()\n",
    "\n",
    "plt.tight_layout(rect=[0, 0.03, 1, 0.95])\n",
    "plt.show()\n",
    "\n",
    "# 将生成的数据与真实数据并排打印出来看看\n",
    "print(\"\\n前5个真实样本 (Setosa):\")\n",
    "print(pd.DataFrame(real_data_original_scale[:5], columns=feature_names))\n",
    "\n",
    "print(\"\\nGAN生成的5个新样本:\")\n",
    "print(pd.DataFrame(generated_data[:5], columns=feature_names))"
   ]
  },
  {
   "cell_type": "markdown",
   "id": "68b63405",
   "metadata": {},
   "source": [
    "\n",
    "\n",
    "GAN 训练效果的关键指标是 生成数据分布与真实数据分布的重合度：  \n",
    "- 若两者分布高度重叠 → 生成数据质量高，GAN 学得好  \n",
    "- 若分布差异大、峰谷错位明显 → 生成数据存在偏差，GAN 学习不充分  \n",
    "\n",
    "那么如何评价好这个分布情况呢？最好是采取定量指标：KL散度，我们以后有机会再说，主要还使用在图像数据上的，GAN"
   ]
  }
 ],
 "metadata": {
  "kernelspec": {
   "display_name": "yolov5_new",
   "language": "python",
   "name": "python3"
  },
  "language_info": {
   "codemirror_mode": {
    "name": "ipython",
    "version": 3
   },
   "file_extension": ".py",
   "mimetype": "text/x-python",
   "name": "python",
   "nbconvert_exporter": "python",
   "pygments_lexer": "ipython3",
   "version": "3.8.0"
  }
 },
 "nbformat": 4,
 "nbformat_minor": 5
}
