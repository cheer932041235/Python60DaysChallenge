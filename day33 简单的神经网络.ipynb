{
 "cells": [
  {
   "cell_type": "markdown",
   "id": "557a6223",
   "metadata": {},
   "source": [
    "# DAY33 \n",
    "默认大家已经有一定的神经网络基础，该部分已经在复试班的深度学习部分介绍完毕，如果没有，你需要自行了解下MLP的概念。\n",
    "\n",
    "你需要知道\n",
    "1. 梯度下降的思想\n",
    "2. 激活函数的作用\n",
    "3. 损失函数的作用\n",
    "4. 优化器\n",
    "5. 神经网络的概念\n",
    "\n",
    "神经网络由于内部比较灵活，所以封装的比较浅，可以对模型做非常多的改进，而不像机器学习三行代码固定。\n",
    "\n",
    "\n"
   ]
  },
  {
   "cell_type": "markdown",
   "id": "e211c30a",
   "metadata": {},
   "source": [
    "## PyTorch的安装"
   ]
  },
  {
   "cell_type": "markdown",
   "id": "894e6c29",
   "metadata": {},
   "source": [
    "我们后续完成深度学习项目中，主要使用的包为pytorch，所以需要安装，你需要去配置一个新的环境。\n",
    "\n",
    "未来在复现具体项目时候，新环境命名最好是python版本_pytorch版本_cuda版本，例如 py3.10_pytorch2.0_cuda12.2 ,因为复杂项目对运行环境有要求，所以需要安装对应版本的包。\n",
    "\n",
    "我们目前主要不用这么严格，先创建一个命名为DL的新环境即可,也可以沿用之前的环境\n",
    "``` \n",
    "conda create -n DL python=3.8\n",
    "conda env list \n",
    "conda activate DL\n",
    "conda install jupyter （如果conda无法安装jupyter就参考环境配置文档的pip安装方法）\n",
    "pip insatll scikit-learn\n",
    "然后对着下列教程安装pytorch\n",
    "\n",
    "\n",
    "```\n",
    "深度学习主要是简单的并行计算，所以gpu优势更大，简单的计算cpu发挥不出来他的价值，我们之前说过显卡和cpu的区别：\n",
    "1. cpu是1个博士生，能够完成复杂的计算，串行能力强。\n",
    "2. gpu是100个小学生，能够完成简单的计算，人多计算的快。\n",
    "\n",
    "这里的gpu指的是英伟达的显卡，它支持cuda可以提高并行计算的能力。\n",
    "\n",
    "如果你是amd的显卡、苹果的电脑，那样就不需要安装cuda了，直接安装pytorch-gpu版本即可。cuda只支持nvidia的显卡。\n",
    "\n",
    "[安装教程](https://blog.csdn.net/Little_Carter/article/details/135934842?ops_request_misc=%257B%2522request%255Fid%2522%253A%25226f4f98b061723def7702948a6b9272a7%2522%252C%2522scm%2522%253A%252220140713.130102334..%2522%257D&request_id=6f4f98b061723def7702948a6b9272a7&biz_id=0&utm_medium=distribute.pc_search_result.none-task-blog-2~all~top_positive~default-1-135934842-null-null.142^v101^pc_search_result_base9&utm_term=pytorch%E5%AE%89%E8%A3%85&spm=1018.2226.3001.4187)\n",
    "\n",
    "\n",
    "或者去b站随便搜个pytorch安装视频。\n",
    "1. 怕麻烦直接安装cpu版本的pytorch，跑通了用云服务器版本的pytorch-gpu\n",
    "2. gpu的pytorch还需要额外安装cuda cudnn组件\n",
    "\n",
    "\n",
    "\n",
    "\n",
    "\n",
    "\n",
    "\n"
   ]
  },
  {
   "cell_type": "markdown",
   "id": "e3dd5fae",
   "metadata": {},
   "source": [
    "## 准备工作\n",
    "\n",
    "\n"
   ]
  },
  {
   "attachments": {
    "image-2.png": {
     "image/png": "[encoded data removed]"
    }
   },
   "cell_type": "markdown",
   "id": "21d65fc9",
   "metadata": {},
   "source": [
    "可以在你电脑的cmd中输入nvidia-smi来查看下显卡信息\n",
    "\n",
    "![image-2.png](attachment:image-2.png)\n",
    "\n",
    "其中最重要的2个信息，分别是：\n",
    "1. 显卡目前驱动下最高支持的cuda版本，12.7\n",
    "2. 显存大小，12288 MiB ÷ 1024 = 12 \n",
    "\n",
    "PS:之所以输入这个命令，可以弹出这些信息，是因为为系统正确安装了 NVIDIA 显卡驱动程序，并且相关路径被添加到了环境变量中。如果你不是英伟达的显卡，自然无法使用这个命令。"
   ]
  },
  {
   "cell_type": "code",
   "execution_count": 3,
   "id": "64d3a05a",
   "metadata": {},
   "outputs": [
    {
     "data": {
      "text/plain": [
       "<module 'torch.cuda' from 'd:\\\\Anaconda\\\\envs\\\\yolov5\\\\lib\\\\site-packages\\\\torch\\\\cuda\\\\__init__.py'>"
      ]
     },
     "execution_count": 3,
     "metadata": {},
     "output_type": "execute_result"
    }
   ],
   "source": [
    "import torch\n",
    "torch.cuda"
   ]
  },
  {
   "cell_type": "code",
   "execution_count": 4,
   "id": "5a22a731",
   "metadata": {},
   "outputs": [
    {
     "name": "stdout",
     "output_type": "stream",
     "text": [
      "CUDA可用！\n",
      "可用的CUDA设备数量: 1\n",
      "当前使用的CUDA设备索引: 0\n",
      "当前CUDA设备的名称: NVIDIA GeForce RTX 3080 Ti\n",
      "CUDA版本: 11.1\n"
     ]
    }
   ],
   "source": [
    "import torch\n",
    "\n",
    "# 检查CUDA是否可用\n",
    "if torch.cuda.is_available():\n",
    "    print(\"CUDA可用！\")\n",
    "    # 获取可用的CUDA设备数量\n",
    "    device_count = torch.cuda.device_count()\n",
    "    print(f\"可用的CUDA设备数量: {device_count}\")\n",
    "    # 获取当前使用的CUDA设备索引\n",
    "    current_device = torch.cuda.current_device()\n",
    "    print(f\"当前使用的CUDA设备索引: {current_device}\")\n",
    "    # 获取当前CUDA设备的名称\n",
    "    device_name = torch.cuda.get_device_name(current_device)\n",
    "    print(f\"当前CUDA设备的名称: {device_name}\")\n",
    "    # 获取CUDA版本\n",
    "    cuda_version = torch.version.cuda\n",
    "    print(f\"CUDA版本: {cuda_version}\")\n",
    "else:\n",
    "    print(\"CUDA不可用。\")"
   ]
  },
  {
   "cell_type": "markdown",
   "id": "749f7d69",
   "metadata": {},
   "source": [
    "这里的cuda版本是实际安装的cuda驱动的版本，需要小于显卡所支持的最高版本"
   ]
  },
  {
   "cell_type": "markdown",
   "id": "659102c0",
   "metadata": {},
   "source": [
    "上述这段代码，可以以后不断复用，检查是否有pytorch及cuda相关信息，我们今天先用cpu训练，不必在意，有没有cuda不影响。\n"
   ]
  },
  {
   "cell_type": "markdown",
   "id": "cf0d3fdf",
   "metadata": {},
   "source": [
    "## 数据的准备"
   ]
  },
  {
   "cell_type": "code",
   "execution_count": 5,
   "id": "a7be54d3",
   "metadata": {},
   "outputs": [
    {
     "name": "stdout",
     "output_type": "stream",
     "text": [
      "(120, 4)\n",
      "(120,)\n",
      "(30, 4)\n",
      "(30,)\n"
     ]
    }
   ],
   "source": [
    "# 仍然用4特征，3分类的鸢尾花数据集作为我们今天的数据集\n",
    "from sklearn.datasets import load_iris\n",
    "from sklearn.model_selection import train_test_split\n",
    "import numpy as np\n",
    "\n",
    "# 加载鸢尾花数据集\n",
    "iris = load_iris()\n",
    "X = iris.data  # 特征数据\n",
    "y = iris.target  # 标签数据\n",
    "# 划分训练集和测试集\n",
    "X_train, X_test, y_train, y_test = train_test_split(X, y, test_size=0.2, random_state=42)\n",
    "\n",
    "# 打印下尺寸\n",
    "print(X_train.shape)\n",
    "print(y_train.shape)\n",
    "print(X_test.shape)\n",
    "print(y_test.shape)"
   ]
  },
  {
   "cell_type": "code",
   "execution_count": 6,
   "id": "2cc9de9a",
   "metadata": {},
   "outputs": [],
   "source": [
    "# 归一化数据，神经网络对于输入数据的尺寸敏感，归一化是最常见的处理方式\n",
    "from sklearn.preprocessing import MinMaxScaler\n",
    "scaler = MinMaxScaler()\n",
    "X_train = scaler.fit_transform(X_train)\n",
    "X_test = scaler.transform(X_test) #确保训练集和测试集是相同的缩放"
   ]
  },
  {
   "cell_type": "code",
   "execution_count": 7,
   "id": "01958d56",
   "metadata": {},
   "outputs": [],
   "source": [
    "# 将数据转换为 PyTorch 张量，因为 PyTorch 使用张量进行训练\n",
    "# y_train和y_test是整数，所以需要转化为long类型，如果是float32，会输出1.0 0.0\n",
    "X_train = torch.FloatTensor(X_train)\n",
    "y_train = torch.LongTensor(y_train)\n",
    "X_test = torch.FloatTensor(X_test)\n",
    "y_test = torch.LongTensor(y_test)"
   ]
  },
  {
   "cell_type": "markdown",
   "id": "618e4b6a",
   "metadata": {},
   "source": [
    "## 模型架构定义\n",
    "\n",
    "定义一个简单的全连接神经网络模型，包含一个输入层、一个隐藏层和一个输出层。\n",
    "\n",
    "定义层数+定义前向传播顺序"
   ]
  },
  {
   "cell_type": "code",
   "execution_count": 8,
   "id": "68021396",
   "metadata": {},
   "outputs": [],
   "source": [
    "import torch\n",
    "import torch.nn as nn\n",
    "import torch.optim as optim"
   ]
  },
  {
   "cell_type": "code",
   "execution_count": 9,
   "id": "af9b09f0",
   "metadata": {},
   "outputs": [],
   "source": [
    "class MLP(nn.Module): # 定义一个多层感知机（MLP）模型，继承父类nn.Module\n",
    "    def __init__(self): # 初始化函数\n",
    "        super(MLP, self).__init__() # 调用父类的初始化函数\n",
    " # 前三行是八股文，后面的是自定义的\n",
    "\n",
    "        self.fc1 = nn.Linear(4, 10)  # 输入层到隐藏层\n",
    "        self.relu = nn.ReLU()\n",
    "        self.fc2 = nn.Linear(10, 3)  # 隐藏层到输出层\n",
    "# 输出层不需要激活函数，因为后面会用到交叉熵函数cross_entropy，交叉熵函数内部有softmax函数，会把输出转化为概率\n",
    "\n",
    "    def forward(self, x):\n",
    "        out = self.fc1(x)\n",
    "        out = self.relu(out)\n",
    "        out = self.fc2(out)\n",
    "        return out\n",
    "\n",
    "# 实例化模型\n",
    "model = MLP()"
   ]
  },
  {
   "cell_type": "markdown",
   "id": "05bc115c",
   "metadata": {},
   "source": [
    "其实模型层的写法有很多，relu也可以不写，在后面前向传播的时候计算下即可，因为relu其实不算一个层，只是个计算而已。"
   ]
  },
  {
   "cell_type": "code",
   "execution_count": 10,
   "id": "e4fdbac6",
   "metadata": {},
   "outputs": [],
   "source": [
    "    # def forward(self,x): #前向传播\n",
    "    #     x=torch.relu(self.fc1(x)) #激活函数\n",
    "    #     x=self.fc2(x) #输出层不需要激活函数，因为后面会用到交叉熵函数cross_entropy\n",
    "    #     return x"
   ]
  },
  {
   "cell_type": "markdown",
   "id": "c77c0846",
   "metadata": {},
   "source": [
    "## 模型训练（CPU版本）"
   ]
  },
  {
   "cell_type": "markdown",
   "id": "6240b46d",
   "metadata": {},
   "source": [
    "### 定义损失函数和优化器"
   ]
  },
  {
   "cell_type": "code",
   "execution_count": 11,
   "id": "25b93063",
   "metadata": {},
   "outputs": [],
   "source": [
    "# 分类问题使用交叉熵损失函数\n",
    "criterion = nn.CrossEntropyLoss()\n",
    "\n",
    "# 使用随机梯度下降优化器\n",
    "optimizer = optim.SGD(model.parameters(), lr=0.01)\n",
    "\n",
    "# # 使用自适应学习率的化器\n",
    "# optimizer = optim.Adam(model.parameters(), lr=0.001)"
   ]
  },
  {
   "cell_type": "markdown",
   "id": "40746e87",
   "metadata": {},
   "source": [
    "### 开始循环训练\n",
    "\n",
    "实际上在训练的时候，可以同时观察每个epoch训练完后测试集的表现：测试集的loss和准确度"
   ]
  },
  {
   "cell_type": "code",
   "execution_count": 12,
   "id": "e0abf37d",
   "metadata": {},
   "outputs": [
    {
     "name": "stdout",
     "output_type": "stream",
     "text": [
      "Epoch [100/20000], Loss: 1.0730\n",
      "Epoch [200/20000], Loss: 1.0258\n",
      "Epoch [300/20000], Loss: 0.9757\n",
      "Epoch [400/20000], Loss: 0.9200\n",
      "Epoch [500/20000], Loss: 0.8577\n",
      "Epoch [600/20000], Loss: 0.7908\n",
      "Epoch [700/20000], Loss: 0.7247\n",
      "Epoch [800/20000], Loss: 0.6639\n",
      "Epoch [900/20000], Loss: 0.6109\n",
      "Epoch [1000/20000], Loss: 0.5661\n",
      "Epoch [1100/20000], Loss: 0.5285\n",
      "Epoch [1200/20000], Loss: 0.4967\n",
      "Epoch [1300/20000], Loss: 0.4695\n",
      "Epoch [1400/20000], Loss: 0.4456\n",
      "Epoch [1500/20000], Loss: 0.4244\n",
      "Epoch [1600/20000], Loss: 0.4052\n",
      "Epoch [1700/20000], Loss: 0.3877\n",
      "Epoch [1800/20000], Loss: 0.3715\n",
      "Epoch [1900/20000], Loss: 0.3564\n",
      "Epoch [2000/20000], Loss: 0.3423\n",
      "Epoch [2100/20000], Loss: 0.3290\n",
      "Epoch [2200/20000], Loss: 0.3165\n",
      "Epoch [2300/20000], Loss: 0.3046\n",
      "Epoch [2400/20000], Loss: 0.2935\n",
      "Epoch [2500/20000], Loss: 0.2829\n",
      "Epoch [2600/20000], Loss: 0.2729\n",
      "Epoch [2700/20000], Loss: 0.2635\n",
      "Epoch [2800/20000], Loss: 0.2545\n",
      "Epoch [2900/20000], Loss: 0.2461\n",
      "Epoch [3000/20000], Loss: 0.2381\n",
      "Epoch [3100/20000], Loss: 0.2306\n",
      "Epoch [3200/20000], Loss: 0.2235\n",
      "Epoch [3300/20000], Loss: 0.2168\n",
      "Epoch [3400/20000], Loss: 0.2104\n",
      "Epoch [3500/20000], Loss: 0.2044\n",
      "Epoch [3600/20000], Loss: 0.1987\n",
      "Epoch [3700/20000], Loss: 0.1933\n",
      "Epoch [3800/20000], Loss: 0.1882\n",
      "Epoch [3900/20000], Loss: 0.1833\n",
      "Epoch [4000/20000], Loss: 0.1787\n",
      "Epoch [4100/20000], Loss: 0.1744\n",
      "Epoch [4200/20000], Loss: 0.1702\n",
      "Epoch [4300/20000], Loss: 0.1663\n",
      "Epoch [4400/20000], Loss: 0.1625\n",
      "Epoch [4500/20000], Loss: 0.1590\n",
      "Epoch [4600/20000], Loss: 0.1556\n",
      "Epoch [4700/20000], Loss: 0.1523\n",
      "Epoch [4800/20000], Loss: 0.1492\n",
      "Epoch [4900/20000], Loss: 0.1463\n",
      "Epoch [5000/20000], Loss: 0.1435\n",
      "Epoch [5100/20000], Loss: 0.1408\n",
      "Epoch [5200/20000], Loss: 0.1382\n",
      "Epoch [5300/20000], Loss: 0.1358\n",
      "Epoch [5400/20000], Loss: 0.1334\n",
      "Epoch [5500/20000], Loss: 0.1312\n",
      "Epoch [5600/20000], Loss: 0.1290\n",
      "Epoch [5700/20000], Loss: 0.1269\n",
      "Epoch [5800/20000], Loss: 0.1249\n",
      "Epoch [5900/20000], Loss: 0.1230\n",
      "Epoch [6000/20000], Loss: 0.1212\n",
      "Epoch [6100/20000], Loss: 0.1194\n",
      "Epoch [6200/20000], Loss: 0.1177\n",
      "Epoch [6300/20000], Loss: 0.1161\n",
      "Epoch [6400/20000], Loss: 0.1145\n",
      "Epoch [6500/20000], Loss: 0.1130\n",
      "Epoch [6600/20000], Loss: 0.1116\n",
      "Epoch [6700/20000], Loss: 0.1102\n",
      "Epoch [6800/20000], Loss: 0.1088\n",
      "Epoch [6900/20000], Loss: 0.1075\n",
      "Epoch [7000/20000], Loss: 0.1062\n",
      "Epoch [7100/20000], Loss: 0.1050\n",
      "Epoch [7200/20000], Loss: 0.1038\n",
      "Epoch [7300/20000], Loss: 0.1027\n",
      "Epoch [7400/20000], Loss: 0.1016\n",
      "Epoch [7500/20000], Loss: 0.1005\n",
      "Epoch [7600/20000], Loss: 0.0995\n",
      "Epoch [7700/20000], Loss: 0.0985\n",
      "Epoch [7800/20000], Loss: 0.0975\n",
      "Epoch [7900/20000], Loss: 0.0966\n",
      "Epoch [8000/20000], Loss: 0.0957\n",
      "Epoch [8100/20000], Loss: 0.0948\n",
      "Epoch [8200/20000], Loss: 0.0940\n",
      "Epoch [8300/20000], Loss: 0.0932\n",
      "Epoch [8400/20000], Loss: 0.0924\n",
      "Epoch [8500/20000], Loss: 0.0916\n",
      "Epoch [8600/20000], Loss: 0.0908\n",
      "Epoch [8700/20000], Loss: 0.0901\n",
      "Epoch [8800/20000], Loss: 0.0894\n",
      "Epoch [8900/20000], Loss: 0.0887\n",
      "Epoch [9000/20000], Loss: 0.0880\n",
      "Epoch [9100/20000], Loss: 0.0874\n",
      "Epoch [9200/20000], Loss: 0.0867\n",
      "Epoch [9300/20000], Loss: 0.0861\n",
      "Epoch [9400/20000], Loss: 0.0855\n",
      "Epoch [9500/20000], Loss: 0.0849\n",
      "Epoch [9600/20000], Loss: 0.0844\n",
      "Epoch [9700/20000], Loss: 0.0838\n",
      "Epoch [9800/20000], Loss: 0.0833\n",
      "Epoch [9900/20000], Loss: 0.0827\n",
      "Epoch [10000/20000], Loss: 0.0822\n",
      "Epoch [10100/20000], Loss: 0.0817\n",
      "Epoch [10200/20000], Loss: 0.0812\n",
      "Epoch [10300/20000], Loss: 0.0808\n",
      "Epoch [10400/20000], Loss: 0.0803\n",
      "Epoch [10500/20000], Loss: 0.0798\n",
      "Epoch [10600/20000], Loss: 0.0794\n",
      "Epoch [10700/20000], Loss: 0.0790\n",
      "Epoch [10800/20000], Loss: 0.0785\n",
      "Epoch [10900/20000], Loss: 0.0781\n",
      "Epoch [11000/20000], Loss: 0.0777\n",
      "Epoch [11100/20000], Loss: 0.0773\n",
      "Epoch [11200/20000], Loss: 0.0769\n",
      "Epoch [11300/20000], Loss: 0.0766\n",
      "Epoch [11400/20000], Loss: 0.0762\n",
      "Epoch [11500/20000], Loss: 0.0758\n",
      "Epoch [11600/20000], Loss: 0.0755\n",
      "Epoch [11700/20000], Loss: 0.0751\n",
      "Epoch [11800/20000], Loss: 0.0748\n",
      "Epoch [11900/20000], Loss: 0.0745\n",
      "Epoch [12000/20000], Loss: 0.0741\n",
      "Epoch [12100/20000], Loss: 0.0738\n",
      "Epoch [12200/20000], Loss: 0.0735\n",
      "Epoch [12300/20000], Loss: 0.0732\n",
      "Epoch [12400/20000], Loss: 0.0729\n",
      "Epoch [12500/20000], Loss: 0.0726\n",
      "Epoch [12600/20000], Loss: 0.0723\n",
      "Epoch [12700/20000], Loss: 0.0721\n",
      "Epoch [12800/20000], Loss: 0.0718\n",
      "Epoch [12900/20000], Loss: 0.0715\n",
      "Epoch [13000/20000], Loss: 0.0712\n",
      "Epoch [13100/20000], Loss: 0.0710\n",
      "Epoch [13200/20000], Loss: 0.0707\n",
      "Epoch [13300/20000], Loss: 0.0705\n",
      "Epoch [13400/20000], Loss: 0.0702\n",
      "Epoch [13500/20000], Loss: 0.0700\n",
      "Epoch [13600/20000], Loss: 0.0698\n",
      "Epoch [13700/20000], Loss: 0.0695\n",
      "Epoch [13800/20000], Loss: 0.0693\n",
      "Epoch [13900/20000], Loss: 0.0691\n",
      "Epoch [14000/20000], Loss: 0.0688\n",
      "Epoch [14100/20000], Loss: 0.0686\n",
      "Epoch [14200/20000], Loss: 0.0684\n",
      "Epoch [14300/20000], Loss: 0.0682\n",
      "Epoch [14400/20000], Loss: 0.0680\n",
      "Epoch [14500/20000], Loss: 0.0678\n",
      "Epoch [14600/20000], Loss: 0.0676\n",
      "Epoch [14700/20000], Loss: 0.0674\n",
      "Epoch [14800/20000], Loss: 0.0672\n",
      "Epoch [14900/20000], Loss: 0.0670\n",
      "Epoch [15000/20000], Loss: 0.0668\n",
      "Epoch [15100/20000], Loss: 0.0667\n",
      "Epoch [15200/20000], Loss: 0.0665\n",
      "Epoch [15300/20000], Loss: 0.0663\n",
      "Epoch [15400/20000], Loss: 0.0661\n",
      "Epoch [15500/20000], Loss: 0.0659\n",
      "Epoch [15600/20000], Loss: 0.0658\n",
      "Epoch [15700/20000], Loss: 0.0656\n",
      "Epoch [15800/20000], Loss: 0.0654\n",
      "Epoch [15900/20000], Loss: 0.0653\n",
      "Epoch [16000/20000], Loss: 0.0651\n",
      "Epoch [16100/20000], Loss: 0.0650\n",
      "Epoch [16200/20000], Loss: 0.0648\n",
      "Epoch [16300/20000], Loss: 0.0647\n",
      "Epoch [16400/20000], Loss: 0.0645\n",
      "Epoch [16500/20000], Loss: 0.0644\n",
      "Epoch [16600/20000], Loss: 0.0642\n",
      "Epoch [16700/20000], Loss: 0.0641\n",
      "Epoch [16800/20000], Loss: 0.0639\n",
      "Epoch [16900/20000], Loss: 0.0638\n",
      "Epoch [17000/20000], Loss: 0.0637\n",
      "Epoch [17100/20000], Loss: 0.0635\n",
      "Epoch [17200/20000], Loss: 0.0634\n",
      "Epoch [17300/20000], Loss: 0.0633\n",
      "Epoch [17400/20000], Loss: 0.0631\n",
      "Epoch [17500/20000], Loss: 0.0630\n",
      "Epoch [17600/20000], Loss: 0.0629\n",
      "Epoch [17700/20000], Loss: 0.0627\n",
      "Epoch [17800/20000], Loss: 0.0626\n",
      "Epoch [17900/20000], Loss: 0.0625\n",
      "Epoch [18000/20000], Loss: 0.0624\n",
      "Epoch [18100/20000], Loss: 0.0623\n",
      "Epoch [18200/20000], Loss: 0.0621\n",
      "Epoch [18300/20000], Loss: 0.0620\n",
      "Epoch [18400/20000], Loss: 0.0619\n",
      "Epoch [18500/20000], Loss: 0.0618\n",
      "Epoch [18600/20000], Loss: 0.0617\n",
      "Epoch [18700/20000], Loss: 0.0616\n",
      "Epoch [18800/20000], Loss: 0.0615\n",
      "Epoch [18900/20000], Loss: 0.0614\n",
      "Epoch [19000/20000], Loss: 0.0613\n",
      "Epoch [19100/20000], Loss: 0.0612\n",
      "Epoch [19200/20000], Loss: 0.0610\n",
      "Epoch [19300/20000], Loss: 0.0609\n",
      "Epoch [19400/20000], Loss: 0.0608\n",
      "Epoch [19500/20000], Loss: 0.0607\n",
      "Epoch [19600/20000], Loss: 0.0606\n",
      "Epoch [19700/20000], Loss: 0.0605\n",
      "Epoch [19800/20000], Loss: 0.0605\n",
      "Epoch [19900/20000], Loss: 0.0604\n",
      "Epoch [20000/20000], Loss: 0.0603\n"
     ]
    }
   ],
   "source": [
    "# 训练模型\n",
    "num_epochs = 20000 # 训练的轮数\n",
    "\n",
    "# 用于存储每个 epoch 的损失值\n",
    "losses = []\n",
    "\n",
    "for epoch in range(num_epochs): # range是从0开始，所以epoch是从0开始\n",
    "    # 前向传播\n",
    "    outputs = model.forward(X_train)   # 显式调用forward函数\n",
    "    # outputs = model(X_train)  # 常见写法隐式调用forward函数，其实是用了model类的__call__方法\n",
    "    loss = criterion(outputs, y_train) # output是模型预测值，y_train是真实标签\n",
    "\n",
    "    # 反向传播和优化\n",
    "    optimizer.zero_grad() #梯度清零，因为PyTorch会累积梯度，所以每次迭代需要清零，梯度累计是那种小的bitchsize模拟大的bitchsize\n",
    "    loss.backward() # 反向传播计算梯度\n",
    "    optimizer.step() # 更新参数\n",
    "\n",
    "    # 记录损失值\n",
    "    losses.append(loss.item())\n",
    "\n",
    "    # 打印训练信息\n",
    "    if (epoch + 1) % 100 == 0: # range是从0开始，所以epoch+1是从当前epoch开始，每100个epoch打印一次\n",
    "        print(f'Epoch [{epoch+1}/{num_epochs}], Loss: {loss.item():.4f}')"
   ]
  },
  {
   "cell_type": "markdown",
   "id": "883ec975",
   "metadata": {},
   "source": [
    "如果你重新运行上面这段训练循环，模型参数、优化器状态和梯度会继续保留，导致训练结果叠加，模型参数和优化器状态（如动量、学习率等）不会被重置。这会导致训练从之前的状态继续，而不是从头开始"
   ]
  },
  {
   "cell_type": "markdown",
   "id": "3d11ac5d",
   "metadata": {},
   "source": [
    "### 可视化结果"
   ]
  },
  {
   "cell_type": "code",
   "execution_count": 13,
   "id": "1220a3b5",
   "metadata": {},
   "outputs": [
    {
     "data": {
      "image/png": "[encoded data removed]",
      "text/plain": [
       "<Figure size 640x480 with 1 Axes>"
      ]
     },
     "metadata": {},
     "output_type": "display_data"
    }
   ],
   "source": [
    "import matplotlib.pyplot as plt\n",
    "# 可视化损失曲线\n",
    "plt.plot(range(num_epochs), losses)\n",
    "plt.xlabel('Epoch')\n",
    "plt.ylabel('Loss')\n",
    "plt.title('Training Loss over Epochs')\n",
    "plt.show()"
   ]
  }
 ],
 "metadata": {
  "kernelspec": {
   "display_name": "yolov5",
   "language": "python",
   "name": "python3"
  },
  "language_info": {
   "codemirror_mode": {
    "name": "ipython",
    "version": 3
   },
   "file_extension": ".py",
   "mimetype": "text/x-python",
   "name": "python",
   "nbconvert_exporter": "python",
   "pygments_lexer": "ipython3",
   "version": "3.8.20"
  }
 },
 "nbformat": 4,
 "nbformat_minor": 5
}
