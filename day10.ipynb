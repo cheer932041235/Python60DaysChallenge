{
 "cells": [
  {
   "cell_type": "markdown",
   "id": "fdb0de8f",
   "metadata": {},
   "source": [
    "# DAY10\n",
    "\n",
    "1. 把之前所有的处理手段都处理一遍，回顾一下全流程，以后就用处理好的部分直接完成\n",
    "2. 开始机器学习建模（简单建模，不涉及调参）和评估\n",
    "\n"
   ]
  },
  {
   "cell_type": "markdown",
   "id": "7361a220",
   "metadata": {},
   "source": [
    "## 预处理流程回顾\n",
    "\n",
    "1. 导入库\n",
    "2. 读取数据查看数据信息--理解数据\n",
    "3. 缺失值处理\n",
    "4. 异常值处理\n",
    "5. 离散值处理\n",
    "6. 删除无用列\n",
    "7. 划分数据集\n",
    "8. 特征工程\n",
    "9. 模型训练\n",
    "10. 模型评估\n",
    "11. 模型保存\n",
    "12. 模型预测"
   ]
  },
  {
   "cell_type": "markdown",
   "id": "5b3779e4",
   "metadata": {},
   "source": [
    "### 导入所需要的包\n",
    "\n",
    "这里其实是写完后一起整理到这里的"
   ]
  },
  {
   "cell_type": "code",
   "execution_count": 62,
   "id": "ffc25c38",
   "metadata": {},
   "outputs": [],
   "source": [
    "import pandas as pd\n",
    "import pandas as pd    #用于数据处理和分析，可处理表格数据。\n",
    "import numpy as np     #用于数值计算，提供了高效的数组操作。\n",
    "import matplotlib.pyplot as plt    #用于绘制各种类型的图表\n",
    "import seaborn as sns   #基于matplotlib的高级绘图库，能绘制更美观的统计图形。\n",
    " \n",
    " # 设置中文字体（解决中文显示问题）\n",
    "plt.rcParams['font.sans-serif'] = ['SimHei']  # Windows系统常用黑体字体\n",
    "plt.rcParams['axes.unicode_minus'] = False    # 正常显示负号"
   ]
  },
  {
   "cell_type": "markdown",
   "id": "88ab8ba8",
   "metadata": {},
   "source": [
    "### 查看数据信息"
   ]
  },
  {
   "cell_type": "code",
   "execution_count": 63,
   "id": "af7e8e8f",
   "metadata": {},
   "outputs": [
    {
     "name": "stdout",
     "output_type": "stream",
     "text": [
      "数据基本信息：\n",
      "<class 'pandas.core.frame.DataFrame'>\n",
      "RangeIndex: 7500 entries, 0 to 7499\n",
      "Data columns (total 18 columns):\n",
      " #   Column                        Non-Null Count  Dtype  \n",
      "---  ------                        --------------  -----  \n",
      " 0   Id                            7500 non-null   int64  \n",
      " 1   Home Ownership                7500 non-null   object \n",
      " 2   Annual Income                 5943 non-null   float64\n",
      " 3   Years in current job          7129 non-null   object \n",
      " 4   Tax Liens                     7500 non-null   float64\n",
      " 5   Number of Open Accounts       7500 non-null   float64\n",
      " 6   Years of Credit History       7500 non-null   float64\n",
      " 7   Maximum Open Credit           7500 non-null   float64\n",
      " 8   Number of Credit Problems     7500 non-null   float64\n",
      " 9   Months since last delinquent  3419 non-null   float64\n",
      " 10  Bankruptcies                  7486 non-null   float64\n",
      " 11  Purpose                       7500 non-null   object \n",
      " 12  Term                          7500 non-null   object \n",
      " 13  Current Loan Amount           7500 non-null   float64\n",
      " 14  Current Credit Balance        7500 non-null   float64\n",
      " 15  Monthly Debt                  7500 non-null   float64\n",
      " 16  Credit Score                  5943 non-null   float64\n",
      " 17  Credit Default                7500 non-null   int64  \n",
      "dtypes: float64(12), int64(2), object(4)\n",
      "memory usage: 1.0+ MB\n",
      "\n",
      "数据前5行预览：\n",
      "   Id Home Ownership  Annual Income Years in current job  Tax Liens  \\\n",
      "0   0       Own Home       482087.0                  NaN        0.0   \n",
      "1   1       Own Home      1025487.0            10+ years        0.0   \n",
      "2   2  Home Mortgage       751412.0              8 years        0.0   \n",
      "3   3       Own Home       805068.0              6 years        0.0   \n",
      "4   4           Rent       776264.0              8 years        0.0   \n",
      "\n",
      "   Number of Open Accounts  Years of Credit History  Maximum Open Credit  \\\n",
      "0                     11.0                     26.3             685960.0   \n",
      "1                     15.0                     15.3            1181730.0   \n",
      "2                     11.0                     35.0            1182434.0   \n",
      "3                      8.0                     22.5             147400.0   \n",
      "4                     13.0                     13.6             385836.0   \n",
      "\n",
      "   Number of Credit Problems  Months since last delinquent  Bankruptcies  \\\n",
      "0                        1.0                           NaN           1.0   \n",
      "1                        0.0                           NaN           0.0   \n",
      "2                        0.0                           NaN           0.0   \n",
      "3                        1.0                           NaN           1.0   \n",
      "4                        1.0                           NaN           0.0   \n",
      "\n",
      "              Purpose        Term  Current Loan Amount  \\\n",
      "0  debt consolidation  Short Term           99999999.0   \n",
      "1  debt consolidation   Long Term             264968.0   \n",
      "2  debt consolidation  Short Term           99999999.0   \n",
      "3  debt consolidation  Short Term             121396.0   \n",
      "4  debt consolidation  Short Term             125840.0   \n",
      "\n",
      "   Current Credit Balance  Monthly Debt  Credit Score  Credit Default  \n",
      "0                 47386.0        7914.0         749.0               0  \n",
      "1                394972.0       18373.0         737.0               1  \n",
      "2                308389.0       13651.0         742.0               0  \n",
      "3                 95855.0       11338.0         694.0               0  \n",
      "4                 93309.0        7180.0         719.0               0  \n"
     ]
    }
   ],
   "source": [
    "data = pd.read_csv('data.csv')    #读取数据\n",
    "print(\"数据基本信息：\")\n",
    "data.info()\n",
    "print(\"\\n数据前5行预览：\")\n",
    "print(data.head())"
   ]
  },
  {
   "cell_type": "markdown",
   "id": "164751b3",
   "metadata": {},
   "source": [
    "以下是对该数据集进行预处理的步骤及顺序：\n",
    "\n",
    "一共有17个特征，分别处理\n",
    "\n",
    "\n",
    "1. **缺失值处理**\n",
    "    - **Annual Income**：有5943个非空值，存在缺失值。可以考虑使用均值填充、中位数填充或者基于其他相关特征进行回归预测填充。例如，如果“Home Ownership”和“Annual Income”有一定相关性，可根据不同房屋所有权类型的平均收入来填充缺失值。\n",
    "    - **Years in current job**：7129个非空值，存在缺失值。由于是对象类型，可能需要先将其转换为合适的数值类型再进行处理。比如将“10+ years”转换为10，“8 years”转换为8等，然后再用众数或中位数填充缺失值。\n",
    "    - **Months since last delinquent**：只有3419个非空值，缺失值较多。若该特征对目标变量影响较大，可尝试用多重填补法等较为复杂的方法进行填充；若影响较小，也可直接删除含有缺失值的行，但要注意可能会导致数据量损失较大。\n",
    "    - **Credit Score**：5943个非空值，存在缺失值。可参照“Annual Income”的处理方式，根据与其他特征的相关性来选择合适的填充方法。\n",
    "2. **数据类型转换**\n",
    "    - **Years in current job**：将其从对象类型转换为数值类型，方便后续的计算和模型处理。\n",
    "    - **Home Ownership**、**Purpose**、**Term**：这些对象类型的特征可以进行独热编码或标签编码。如果特征的类别数较少且没有明显的顺序关系，独热编码较为合适；如果有一定的顺序关系，如“Term”的“Short Term”和“Long Term”，可以考虑标签编码。\n",
    "3. **异常值处理**\n",
    "    - 对于数值型特征，如“Annual Income”“Current Loan Amount”等，可以通过箱线图等方法检测异常值。如果存在异常值，需根据实际情况决定是否进行处理。若是数据录入错误等原因导致的异常值，可以进行修正或删除；若是真实存在的极端值，可能需要保留，但在某些模型中可能需要进行特殊处理，如采用稳健的统计方法或对数据进行变换。\n",
    "4. **特征缩放**\n",
    "    - 对数值型特征进行特征缩放，将其缩放到相同的尺度，以避免某些特征因数值较大而在模型中占据主导地位。常用的方法有Min - Max标准化和Z - score标准化。例如，“Annual Income”“Years of Credit History”“Credit Score”等特征的取值范围差异较大，可通过特征缩放将它们的取值范围统一到[0, 1]或均值为0、标准差为1的分布上。\n",
    "5. **特征工程**\n",
    "    - **衍生新特征**：根据已有特征创建新的特征，可能会对模型性能有提升。例如，可以计算“Debt - to - Income Ratio”（负债收入比），即“Monthly Debt”与“Annual Income”的比值，来反映客户的债务负担情况。\n",
    "    - **特征选择**：通过相关性分析等方法，选择与目标变量“Credit Default”相关性较高的特征，去除相关性较低或冗余的特征，以降低模型的复杂度和过拟合的风险。\n",
    "\n",
    "在实际操作中，需要先进行缺失值处理，然后进行数据类型转换，接着处理异常值，再进行特征缩放，最后进行特征工程。这样的顺序可以保证数据在预处理过程中的一致性和有效性，为后续的机器学习模型训练提供高质量的数据。"
   ]
  },
  {
   "cell_type": "markdown",
   "id": "78dfc385",
   "metadata": {},
   "source": [
    "### 首先处理object对象\n",
    "\n",
    "因为最后的输入都是数值类型，所以先给字符串变量处理了"
   ]
  },
  {
   "cell_type": "code",
   "execution_count": 64,
   "id": "e77b6eb9",
   "metadata": {},
   "outputs": [
    {
     "data": {
      "text/plain": [
       "['Home Ownership', 'Years in current job', 'Purpose', 'Term']"
      ]
     },
     "execution_count": 64,
     "metadata": {},
     "output_type": "execute_result"
    }
   ],
   "source": [
    "# 先筛选字符串变量 \n",
    "discrete_features = data.select_dtypes(include=['object']).columns.tolist()\n",
    "discrete_features"
   ]
  },
  {
   "cell_type": "code",
   "execution_count": 65,
   "id": "fb9b644d",
   "metadata": {},
   "outputs": [
    {
     "name": "stdout",
     "output_type": "stream",
     "text": [
      "\n",
      "Home Ownership的唯一值：\n",
      "Home Mortgage    3637\n",
      "Rent             3204\n",
      "Own Home          647\n",
      "Have Mortgage      12\n",
      "Name: Home Ownership, dtype: int64\n",
      "\n",
      "Years in current job的唯一值：\n",
      "10+ years    2332\n",
      "2 years       705\n",
      "3 years       620\n",
      "< 1 year      563\n",
      "5 years       516\n",
      "1 year        504\n",
      "4 years       469\n",
      "6 years       426\n",
      "7 years       396\n",
      "8 years       339\n",
      "9 years       259\n",
      "Name: Years in current job, dtype: int64\n",
      "\n",
      "Purpose的唯一值：\n",
      "debt consolidation      5944\n",
      "other                    665\n",
      "home improvements        412\n",
      "business loan            129\n",
      "buy a car                 96\n",
      "medical bills             71\n",
      "major purchase            40\n",
      "take a trip               37\n",
      "buy house                 34\n",
      "small business            26\n",
      "wedding                   15\n",
      "moving                    11\n",
      "educational expenses      10\n",
      "vacation                   8\n",
      "renewable energy           2\n",
      "Name: Purpose, dtype: int64\n",
      "\n",
      "Term的唯一值：\n",
      "Short Term    5556\n",
      "Long Term     1944\n",
      "Name: Term, dtype: int64\n"
     ]
    }
   ],
   "source": [
    "# 依次查看内容\n",
    "for feature in discrete_features:\n",
    "    print(f\"\\n{feature}的唯一值：\")\n",
    "    print(data[feature].value_counts())"
   ]
  },
  {
   "cell_type": "markdown",
   "id": "1c8adfd6",
   "metadata": {},
   "source": [
    "Home Ownership需要标签编码。\n",
    "- 住房抵押贷款：3637   这个是有房贷，有房子\n",
    "- 租房：3204     没房子\n",
    "- 拥有自有住房：647    这个没贷款，有房子\n",
    "- 有贷款：12   这个是有其他贷款，有房子，没房贷\n",
    "- 名称：房屋所有权，数据类型：int64\n",
    "\n",
    "\n",
    "按照贷款严重程度（抗风险能力），依次是：自有住房 ＜ 租房 ＜ 有其他贷款 ＜ 住房抵押贷款\n",
    "\n",
    "所以按照这个逻辑来进行编码\n",
    "\n",
    "Years in current job 做标签编码\n",
    "\n",
    "Purpose做独热编码\n",
    "\n",
    "Term直接做0-1映射即可，二分类问题，处理后更改自己的名字为1的类别\n",
    "\n"
   ]
  },
  {
   "cell_type": "code",
   "execution_count": 66,
   "id": "68bfabe2",
   "metadata": {},
   "outputs": [],
   "source": [
    "# Home Ownership 标签编码\n",
    "home_ownership_mapping = {\n",
    "    'Own Home': 1,\n",
    "    'Rent': 2,\n",
    "    'Have Mortgage': 3,\n",
    "    'Home Mortgage': 4\n",
    "}\n",
    "data['Home Ownership'] = data['Home Ownership'].map(home_ownership_mapping)\n",
    "\n",
    "# Years in current job 标签编码\n",
    "years_in_job_mapping = {\n",
    "    '< 1 year': 1,\n",
    "    '1 year': 2,\n",
    "    '2 years': 3,\n",
    "    '3 years': 4,\n",
    "    '4 years': 5,\n",
    "    '5 years': 6,\n",
    "    '6 years': 7,\n",
    "    '7 years': 8,\n",
    "    '8 years': 9,\n",
    "    '9 years': 10,\n",
    "    '10+ years': 11\n",
    "}\n",
    "data['Years in current job'] = data['Years in current job'].map(years_in_job_mapping)\n",
    "\n",
    "# Purpose 独热编码，记得需要将bool类型转换为数值\n",
    "data = pd.get_dummies(data, columns=['Purpose'])\n",
    "data2 = pd.read_csv(\"data.csv\") # 重新读取数据，用来做列名对比\n",
    "list_final = [] # 新建一个空列表，用于存放独热编码后新增的特征名\n",
    "for i in data.columns:\n",
    "    if i not in data2.columns:\n",
    "       list_final.append(i) # 这里打印出来的就是独热编码后的特征名\n",
    "for i in list_final:\n",
    "    data[i] = data[i].astype(int) # 这里的i就是独热编码后的特征名\n",
    "\n",
    "\n",
    "\n",
    "# Term 0 - 1 映射\n",
    "term_mapping = {\n",
    "    'Short Term': 0,\n",
    "    'Long Term': 1\n",
    "}\n",
    "data['Term'] = data['Term'].map(term_mapping)\n",
    "data.rename(columns={'Term': 'Long Term'}, inplace=True) # 重命名列\n"
   ]
  },
  {
   "cell_type": "markdown",
   "id": "356aa356",
   "metadata": {},
   "source": [
    "### 处理数值型对象"
   ]
  },
  {
   "cell_type": "markdown",
   "id": "31908eb3",
   "metadata": {},
   "source": [
    "#### 缺失值填补"
   ]
  },
  {
   "cell_type": "code",
   "execution_count": 67,
   "id": "7e93b536",
   "metadata": {},
   "outputs": [],
   "source": [
    "continuous_features = data.select_dtypes(include=['int64', 'float64']).columns.tolist()  #把筛选出来的列名转换成列表\n",
    " \n",
    " # 连续特征用中位数补全\n",
    "for feature in continuous_features:     \n",
    "    mode_value = data[feature].mode()[0]            #获取该列的众数。\n",
    "    data[feature].fillna(mode_value, inplace=True)          #用众数填充该列的缺失值，inplace=True表示直接在原数据上修改。"
   ]
  },
  {
   "cell_type": "markdown",
   "id": "35207476",
   "metadata": {},
   "source": [
    "#### 异常值处理\n",
    "异常值一般不处理，或者结合对照试验处理和不处理都尝试下，但是论文中要写这个，作为个工作量"
   ]
  },
  {
   "cell_type": "code",
   "execution_count": 68,
   "id": "8e21eff0",
   "metadata": {},
   "outputs": [
    {
     "name": "stdout",
     "output_type": "stream",
     "text": [
      "<class 'pandas.core.frame.DataFrame'>\n",
      "RangeIndex: 7500 entries, 0 to 7499\n",
      "Data columns (total 32 columns):\n",
      " #   Column                        Non-Null Count  Dtype  \n",
      "---  ------                        --------------  -----  \n",
      " 0   Id                            7500 non-null   int64  \n",
      " 1   Home Ownership                7500 non-null   int64  \n",
      " 2   Annual Income                 7500 non-null   float64\n",
      " 3   Years in current job          7500 non-null   float64\n",
      " 4   Tax Liens                     7500 non-null   float64\n",
      " 5   Number of Open Accounts       7500 non-null   float64\n",
      " 6   Years of Credit History       7500 non-null   float64\n",
      " 7   Maximum Open Credit           7500 non-null   float64\n",
      " 8   Number of Credit Problems     7500 non-null   float64\n",
      " 9   Months since last delinquent  7500 non-null   float64\n",
      " 10  Bankruptcies                  7500 non-null   float64\n",
      " 11  Long Term                     7500 non-null   int64  \n",
      " 12  Current Loan Amount           7500 non-null   float64\n",
      " 13  Current Credit Balance        7500 non-null   float64\n",
      " 14  Monthly Debt                  7500 non-null   float64\n",
      " 15  Credit Score                  7500 non-null   float64\n",
      " 16  Credit Default                7500 non-null   int64  \n",
      " 17  Purpose_business loan         7500 non-null   int32  \n",
      " 18  Purpose_buy a car             7500 non-null   int32  \n",
      " 19  Purpose_buy house             7500 non-null   int32  \n",
      " 20  Purpose_debt consolidation    7500 non-null   int32  \n",
      " 21  Purpose_educational expenses  7500 non-null   int32  \n",
      " 22  Purpose_home improvements     7500 non-null   int32  \n",
      " 23  Purpose_major purchase        7500 non-null   int32  \n",
      " 24  Purpose_medical bills         7500 non-null   int32  \n",
      " 25  Purpose_moving                7500 non-null   int32  \n",
      " 26  Purpose_other                 7500 non-null   int32  \n",
      " 27  Purpose_renewable energy      7500 non-null   int32  \n",
      " 28  Purpose_small business        7500 non-null   int32  \n",
      " 29  Purpose_take a trip           7500 non-null   int32  \n",
      " 30  Purpose_vacation              7500 non-null   int32  \n",
      " 31  Purpose_wedding               7500 non-null   int32  \n",
      "dtypes: float64(13), int32(15), int64(4)\n",
      "memory usage: 1.4 MB\n"
     ]
    }
   ],
   "source": [
    "data.info()  #查看数据基本信息"
   ]
  },
  {
   "cell_type": "markdown",
   "id": "07407d76",
   "metadata": {},
   "source": [
    "此时数据没有缺失值，都是"
   ]
  },
  {
   "cell_type": "markdown",
   "id": "8a1b4a23",
   "metadata": {},
   "source": [
    "## 可视化分析\n",
    "这部分比较随意，根据自己的需要来绘制图像。作为描述性统计部分 像他人介绍你的数据分布"
   ]
  },
  {
   "cell_type": "markdown",
   "id": "9f23e13a",
   "metadata": {},
   "source": [
    "# 机器学习模型建模"
   ]
  },
  {
   "cell_type": "markdown",
   "id": "63f7d5df",
   "metadata": {},
   "source": [
    "首先进行数据划分，记住之前课上的划分方法：只要调参就要考2次\n",
    "\n",
    "这里我们先不调参，所以只需要划分一次即可\n"
   ]
  },
  {
   "cell_type": "markdown",
   "id": "c31e7dd8",
   "metadata": {},
   "source": [
    "## 数据划分"
   ]
  },
  {
   "cell_type": "code",
   "execution_count": 69,
   "id": "3dd4664a",
   "metadata": {},
   "outputs": [
    {
     "name": "stdout",
     "output_type": "stream",
     "text": [
      "训练集形状: (6000, 31), 测试集形状: (1500, 31)\n"
     ]
    }
   ],
   "source": [
    "# 划分训练集和测试机\n",
    "from sklearn.model_selection import train_test_split\n",
    "X = data.drop(['Credit Default'], axis=1)  # 特征，axis=1表示按列删除\n",
    "y = data['Credit Default']  # 标签\n",
    "X_train, X_test, y_train, y_test = train_test_split(X, y, test_size=0.2, random_state=42)  # 划分数据集，20%作为测试集，随机种子为42\n",
    "# 训练集和测试集的形状\n",
    "print(f\"训练集形状: {X_train.shape}, 测试集形状: {X_test.shape}\")  # 打印训练集和测试集的形状\n",
    "\n"
   ]
  },
  {
   "cell_type": "markdown",
   "id": "8b96a197",
   "metadata": {},
   "source": [
    "## 模型训练与评估\n",
    "三行经典代码\n",
    "1. 模型实例化\n",
    "2. 模型训练（代入训练集）\n",
    "3. 模型预测 （代入测试集）\n",
    "\n",
    "测试集的预测值和测试集的真实值进行对比，得到混淆矩阵\n",
    "\n",
    "- 基于混淆矩阵，计算准确率、召回率、F1值，这些都是固定阈值的评估指标\n",
    "\n",
    "- AUC是基于不同阈值得到不同的混淆矩阵，然后计算每个阈值对应FPR和TPR，讲这些点连成线，最后求曲线下的面积，得到AUC值"
   ]
  },
  {
   "cell_type": "code",
   "execution_count": 70,
   "id": "0885a3e9",
   "metadata": {},
   "outputs": [],
   "source": [
    "# #安装xgboost库\n",
    "# !pip install xgboost -i https://pypi.tuna.tsinghua.edu.cn/simple/ \n",
    "# #安装lightgbm库 \n",
    "# !pip install lightgbm  -i https://pypi.tuna.tsinghua.edu.cn/simple/ \n",
    "# #安装catboost库\n",
    "# !pip install catboost -i https://pypi.tuna.tsinghua.edu.cn/simple/"
   ]
  },
  {
   "cell_type": "code",
   "execution_count": 84,
   "id": "275e986f",
   "metadata": {},
   "outputs": [],
   "source": [
    "from sklearn.svm import SVC #支持向量机分类器\n",
    "from sklearn.neighbors import KNeighborsClassifier #K近邻分类器\n",
    "from sklearn.linear_model import LogisticRegression #逻辑回归分类器\n",
    "import xgboost as xgb #XGBoost分类器\n",
    "import lightgbm as lgb #LightGBM分类器\n",
    "from sklearn.ensemble import RandomForestClassifier #随机森林分类器\n",
    "from catboost import CatBoostClassifier #CatBoost分类器\n",
    "from sklearn.tree import DecisionTreeClassifier #决策树分类器\n",
    "from sklearn.naive_bayes import GaussianNB #高斯朴素贝叶斯分类器\n",
    "from sklearn.metrics import accuracy_score, precision_score, recall_score, f1_score # 用于评估分类器性能的指标\n",
    "from sklearn.metrics import classification_report, confusion_matrix #用于生成分类报告和混淆矩阵\n",
    "import warnings #用于忽略警告信息\n",
    "warnings.filterwarnings(\"ignore\") # 忽略所有警告信息\n"
   ]
  },
  {
   "cell_type": "code",
   "execution_count": 87,
   "id": "bfb215b3",
   "metadata": {},
   "outputs": [
    {
     "name": "stdout",
     "output_type": "stream",
     "text": [
      "\n",
      "SVM 分类报告：\n",
      "              precision    recall  f1-score   support\n",
      "\n",
      "           0       0.71      1.00      0.83      1059\n",
      "           1       0.00      0.00      0.00       441\n",
      "\n",
      "    accuracy                           0.71      1500\n",
      "   macro avg       0.35      0.50      0.41      1500\n",
      "weighted avg       0.50      0.71      0.58      1500\n",
      "\n",
      "SVM 混淆矩阵：\n",
      "[[1059    0]\n",
      " [ 441    0]]\n",
      "SVM 模型评估指标：\n",
      "准确率: 0.7060\n",
      "精确率: 0.0000\n",
      "召回率: 0.0000\n",
      "F1 值: 0.0000\n"
     ]
    }
   ],
   "source": [
    "# SVM\n",
    "svm_model = SVC(random_state=42)\n",
    "svm_model.fit(X_train, y_train)\n",
    "svm_pred = svm_model.predict(X_test)\n",
    "\n",
    "print(\"\\nSVM 分类报告：\")\n",
    "print(classification_report(y_test, svm_pred))  # 打印分类报告\n",
    "print(\"SVM 混淆矩阵：\")\n",
    "print(confusion_matrix(y_test, svm_pred))  # 打印混淆矩阵\n",
    "\n",
    "# 计算 SVM 评估指标，这些指标默认计算正类的性能\n",
    "svm_accuracy = accuracy_score(y_test, svm_pred)\n",
    "svm_precision = precision_score(y_test, svm_pred)\n",
    "svm_recall = recall_score(y_test, svm_pred)\n",
    "svm_f1 = f1_score(y_test, svm_pred)\n",
    "print(\"SVM 模型评估指标：\")\n",
    "print(f\"准确率: {svm_accuracy:.4f}\")\n",
    "print(f\"精确率: {svm_precision:.4f}\")\n",
    "print(f\"召回率: {svm_recall:.4f}\")\n",
    "print(f\"F1 值: {svm_f1:.4f}\")\n"
   ]
  },
  {
   "cell_type": "markdown",
   "id": "54c99822",
   "metadata": {},
   "source": [
    "classification_report它会生成所有类别的指标\n",
    "\n",
    "准确率（Accuracy）是一个全局指标，衡量所有类别预测正确的比例 (TP + TN) / (TP + TN + FP + FN)。它不区分正负类，所以它只有一个值，不区分类别\n",
    "\n",
    "单独调用的 precision_score, recall_score, f1_score 在二分类中默认只计算正类（标签 1）的性能。由于模型从未成功预测出类别 1（TP=0），所以这些指标对类别 1 来说都是 0。\n",
    "\n"
   ]
  },
  {
   "cell_type": "code",
   "execution_count": 88,
   "id": "5c6caa6e",
   "metadata": {},
   "outputs": [
    {
     "name": "stdout",
     "output_type": "stream",
     "text": [
      "\n",
      "KNN 分类报告：\n",
      "              precision    recall  f1-score   support\n",
      "\n",
      "           0       0.73      0.86      0.79      1059\n",
      "           1       0.41      0.24      0.30       441\n",
      "\n",
      "    accuracy                           0.68      1500\n",
      "   macro avg       0.57      0.55      0.54      1500\n",
      "weighted avg       0.64      0.68      0.65      1500\n",
      "\n",
      "KNN 混淆矩阵：\n",
      "[[908 151]\n",
      " [336 105]]\n",
      "KNN 模型评估指标：\n",
      "准确率: 0.6753\n",
      "精确率: 0.4102\n",
      "召回率: 0.2381\n",
      "F1 值: 0.3013\n"
     ]
    }
   ],
   "source": [
    "# KNN\n",
    "knn_model = KNeighborsClassifier()\n",
    "knn_model.fit(X_train, y_train)\n",
    "knn_pred = knn_model.predict(X_test)\n",
    "\n",
    "print(\"\\nKNN 分类报告：\")\n",
    "print(classification_report(y_test, knn_pred))\n",
    "print(\"KNN 混淆矩阵：\")\n",
    "print(confusion_matrix(y_test, knn_pred))\n",
    "\n",
    "knn_accuracy = accuracy_score(y_test, knn_pred)\n",
    "knn_precision = precision_score(y_test, knn_pred)\n",
    "knn_recall = recall_score(y_test, knn_pred)\n",
    "knn_f1 = f1_score(y_test, knn_pred)\n",
    "print(\"KNN 模型评估指标：\")\n",
    "print(f\"准确率: {knn_accuracy:.4f}\")\n",
    "print(f\"精确率: {knn_precision:.4f}\")\n",
    "print(f\"召回率: {knn_recall:.4f}\")\n",
    "print(f\"F1 值: {knn_f1:.4f}\")"
   ]
  },
  {
   "cell_type": "code",
   "execution_count": 89,
   "id": "72beab75",
   "metadata": {},
   "outputs": [
    {
     "name": "stdout",
     "output_type": "stream",
     "text": [
      "\n",
      "逻辑回归 分类报告：\n",
      "              precision    recall  f1-score   support\n",
      "\n",
      "           0       0.75      0.99      0.85      1059\n",
      "           1       0.86      0.20      0.33       441\n",
      "\n",
      "    accuracy                           0.76      1500\n",
      "   macro avg       0.80      0.59      0.59      1500\n",
      "weighted avg       0.78      0.76      0.70      1500\n",
      "\n",
      "逻辑回归 混淆矩阵：\n",
      "[[1044   15]\n",
      " [ 351   90]]\n",
      "逻辑回归 模型评估指标：\n",
      "准确率: 0.7560\n",
      "精确率: 0.8571\n",
      "召回率: 0.2041\n",
      "F1 值: 0.3297\n"
     ]
    }
   ],
   "source": [
    "# 逻辑回归\n",
    "logreg_model = LogisticRegression(random_state=42)\n",
    "logreg_model.fit(X_train, y_train)\n",
    "logreg_pred = logreg_model.predict(X_test)\n",
    "\n",
    "print(\"\\n逻辑回归 分类报告：\")\n",
    "print(classification_report(y_test, logreg_pred))\n",
    "print(\"逻辑回归 混淆矩阵：\")\n",
    "print(confusion_matrix(y_test, logreg_pred))\n",
    "\n",
    "logreg_accuracy = accuracy_score(y_test, logreg_pred)\n",
    "logreg_precision = precision_score(y_test, logreg_pred)\n",
    "logreg_recall = recall_score(y_test, logreg_pred)\n",
    "logreg_f1 = f1_score(y_test, logreg_pred)\n",
    "print(\"逻辑回归 模型评估指标：\")\n",
    "print(f\"准确率: {logreg_accuracy:.4f}\")\n",
    "print(f\"精确率: {logreg_precision:.4f}\")\n",
    "print(f\"召回率: {logreg_recall:.4f}\")\n",
    "print(f\"F1 值: {logreg_f1:.4f}\")"
   ]
  },
  {
   "cell_type": "code",
   "execution_count": 93,
   "id": "287d737b",
   "metadata": {},
   "outputs": [
    {
     "name": "stdout",
     "output_type": "stream",
     "text": [
      "\n",
      "朴素贝叶斯 分类报告：\n",
      "              precision    recall  f1-score   support\n",
      "\n",
      "           0       0.98      0.19      0.32      1059\n",
      "           1       0.34      0.99      0.50       441\n",
      "\n",
      "    accuracy                           0.43      1500\n",
      "   macro avg       0.66      0.59      0.41      1500\n",
      "weighted avg       0.79      0.43      0.38      1500\n",
      "\n",
      "朴素贝叶斯 混淆矩阵：\n",
      "[[204 855]\n",
      " [  5 436]]\n",
      "朴素贝叶斯 模型评估指标：\n",
      "准确率: 0.4267\n",
      "精确率: 0.3377\n",
      "召回率: 0.9887\n",
      "F1 值: 0.5035\n"
     ]
    }
   ],
   "source": [
    "# 朴素贝叶斯\n",
    "nb_model = GaussianNB()\n",
    "nb_model.fit(X_train, y_train)\n",
    "nb_pred = nb_model.predict(X_test)\n",
    "\n",
    "print(\"\\n朴素贝叶斯 分类报告：\")\n",
    "print(classification_report(y_test, nb_pred))\n",
    "print(\"朴素贝叶斯 混淆矩阵：\")\n",
    "print(confusion_matrix(y_test, nb_pred))\n",
    "\n",
    "nb_accuracy = accuracy_score(y_test, nb_pred)\n",
    "nb_precision = precision_score(y_test, nb_pred)\n",
    "nb_recall = recall_score(y_test, nb_pred)\n",
    "nb_f1 = f1_score(y_test, nb_pred)\n",
    "print(\"朴素贝叶斯 模型评估指标：\")\n",
    "print(f\"准确率: {nb_accuracy:.4f}\")\n",
    "print(f\"精确率: {nb_precision:.4f}\")\n",
    "print(f\"召回率: {nb_recall:.4f}\")\n",
    "print(f\"F1 值: {nb_f1:.4f}\")\n",
    "    "
   ]
  },
  {
   "cell_type": "code",
   "execution_count": 94,
   "id": "c97db71d",
   "metadata": {},
   "outputs": [
    {
     "name": "stdout",
     "output_type": "stream",
     "text": [
      "\n",
      "决策树 分类报告：\n",
      "              precision    recall  f1-score   support\n",
      "\n",
      "           0       0.79      0.75      0.77      1059\n",
      "           1       0.46      0.51      0.48       441\n",
      "\n",
      "    accuracy                           0.68      1500\n",
      "   macro avg       0.62      0.63      0.62      1500\n",
      "weighted avg       0.69      0.68      0.68      1500\n",
      "\n",
      "决策树 混淆矩阵：\n",
      "[[791 268]\n",
      " [216 225]]\n",
      "决策树 模型评估指标：\n",
      "准确率: 0.6773\n",
      "精确率: 0.4564\n",
      "召回率: 0.5102\n",
      "F1 值: 0.4818\n"
     ]
    }
   ],
   "source": [
    "# 决策树\n",
    "dt_model = DecisionTreeClassifier(random_state=42)\n",
    "dt_model.fit(X_train, y_train)\n",
    "dt_pred = dt_model.predict(X_test)\n",
    "\n",
    "print(\"\\n决策树 分类报告：\")\n",
    "print(classification_report(y_test, dt_pred))\n",
    "print(\"决策树 混淆矩阵：\")\n",
    "print(confusion_matrix(y_test, dt_pred))\n",
    "\n",
    "dt_accuracy = accuracy_score(y_test, dt_pred)\n",
    "dt_precision = precision_score(y_test, dt_pred)\n",
    "dt_recall = recall_score(y_test, dt_pred)\n",
    "dt_f1 = f1_score(y_test, dt_pred)\n",
    "print(\"决策树 模型评估指标：\")\n",
    "print(f\"准确率: {dt_accuracy:.4f}\")\n",
    "print(f\"精确率: {dt_precision:.4f}\")\n",
    "print(f\"召回率: {dt_recall:.4f}\")\n",
    "print(f\"F1 值: {dt_f1:.4f}\")\n"
   ]
  },
  {
   "cell_type": "code",
   "execution_count": 92,
   "id": "1164cd92",
   "metadata": {},
   "outputs": [
    {
     "name": "stdout",
     "output_type": "stream",
     "text": [
      "\n",
      "随机森林 分类报告：\n",
      "              precision    recall  f1-score   support\n",
      "\n",
      "           0       0.77      0.97      0.86      1059\n",
      "           1       0.79      0.30      0.43       441\n",
      "\n",
      "    accuracy                           0.77      1500\n",
      "   macro avg       0.78      0.63      0.64      1500\n",
      "weighted avg       0.77      0.77      0.73      1500\n",
      "\n",
      "随机森林 混淆矩阵：\n",
      "[[1023   36]\n",
      " [ 309  132]]\n",
      "随机森林 模型评估指标：\n",
      "准确率: 0.7700\n",
      "精确率: 0.7857\n",
      "召回率: 0.2993\n",
      "F1 值: 0.4335\n"
     ]
    }
   ],
   "source": [
    "# 随机森林\n",
    "rf_model = RandomForestClassifier(random_state=42)\n",
    "rf_model.fit(X_train, y_train)\n",
    "rf_pred = rf_model.predict(X_test)\n",
    "\n",
    "print(\"\\n随机森林 分类报告：\")\n",
    "print(classification_report(y_test, rf_pred))\n",
    "print(\"随机森林 混淆矩阵：\")\n",
    "print(confusion_matrix(y_test, rf_pred))\n",
    "\n",
    "rf_accuracy = accuracy_score(y_test, rf_pred)\n",
    "rf_precision = precision_score(y_test, rf_pred)\n",
    "rf_recall = recall_score(y_test, rf_pred)\n",
    "rf_f1 = f1_score(y_test, rf_pred)\n",
    "print(\"随机森林 模型评估指标：\")\n",
    "print(f\"准确率: {rf_accuracy:.4f}\")\n",
    "print(f\"精确率: {rf_precision:.4f}\")\n",
    "print(f\"召回率: {rf_recall:.4f}\")\n",
    "print(f\"F1 值: {rf_f1:.4f}\")"
   ]
  },
  {
   "cell_type": "code",
   "execution_count": 90,
   "id": "44c59c97",
   "metadata": {},
   "outputs": [
    {
     "name": "stdout",
     "output_type": "stream",
     "text": [
      "\n",
      "XGBoost 分类报告：\n",
      "              precision    recall  f1-score   support\n",
      "\n",
      "           0       0.77      0.91      0.84      1059\n",
      "           1       0.62      0.37      0.46       441\n",
      "\n",
      "    accuracy                           0.75      1500\n",
      "   macro avg       0.70      0.64      0.65      1500\n",
      "weighted avg       0.73      0.75      0.72      1500\n",
      "\n",
      "XGBoost 混淆矩阵：\n",
      "[[960  99]\n",
      " [280 161]]\n",
      "XGBoost 模型评估指标：\n",
      "准确率: 0.7473\n",
      "精确率: 0.6192\n",
      "召回率: 0.3651\n",
      "F1 值: 0.4593\n"
     ]
    }
   ],
   "source": [
    "# XGBoost\n",
    "xgb_model = xgb.XGBClassifier(random_state=42)\n",
    "xgb_model.fit(X_train, y_train)\n",
    "xgb_pred = xgb_model.predict(X_test)\n",
    "\n",
    "print(\"\\nXGBoost 分类报告：\")\n",
    "print(classification_report(y_test, xgb_pred))\n",
    "print(\"XGBoost 混淆矩阵：\")\n",
    "print(confusion_matrix(y_test, xgb_pred))\n",
    "\n",
    "xgb_accuracy = accuracy_score(y_test, xgb_pred)\n",
    "xgb_precision = precision_score(y_test, xgb_pred)\n",
    "xgb_recall = recall_score(y_test, xgb_pred)\n",
    "xgb_f1 = f1_score(y_test, xgb_pred)\n",
    "print(\"XGBoost 模型评估指标：\")\n",
    "print(f\"准确率: {xgb_accuracy:.4f}\")\n",
    "print(f\"精确率: {xgb_precision:.4f}\")\n",
    "print(f\"召回率: {xgb_recall:.4f}\")\n",
    "print(f\"F1 值: {xgb_f1:.4f}\")"
   ]
  },
  {
   "cell_type": "code",
   "execution_count": 91,
   "id": "b4242953",
   "metadata": {},
   "outputs": [
    {
     "name": "stdout",
     "output_type": "stream",
     "text": [
      "[LightGBM] [Warning] Found whitespace in feature_names, replace with underlines\n",
      "[LightGBM] [Info] Number of positive: 1672, number of negative: 4328\n",
      "[LightGBM] [Info] Auto-choosing row-wise multi-threading, the overhead of testing was 0.001826 seconds.\n",
      "You can set `force_row_wise=true` to remove the overhead.\n",
      "And if memory is not enough, you can set `force_col_wise=true`.\n",
      "[LightGBM] [Info] Total Bins 2160\n",
      "[LightGBM] [Info] Number of data points in the train set: 6000, number of used features: 26\n",
      "[LightGBM] [Info] [binary:BoostFromScore]: pavg=0.278667 -> initscore=-0.951085\n",
      "[LightGBM] [Info] Start training from score -0.951085\n",
      "\n",
      "LightGBM 分类报告：\n",
      "              precision    recall  f1-score   support\n",
      "\n",
      "           0       0.78      0.94      0.85      1059\n",
      "           1       0.70      0.36      0.47       441\n",
      "\n",
      "    accuracy                           0.77      1500\n",
      "   macro avg       0.74      0.65      0.66      1500\n",
      "weighted avg       0.75      0.77      0.74      1500\n",
      "\n",
      "LightGBM 混淆矩阵：\n",
      "[[992  67]\n",
      " [284 157]]\n",
      "LightGBM 模型评估指标：\n",
      "准确率: 0.7660\n",
      "精确率: 0.7009\n",
      "召回率: 0.3560\n",
      "F1 值: 0.4722\n"
     ]
    }
   ],
   "source": [
    "# LightGBM\n",
    "lgb_model = lgb.LGBMClassifier(random_state=42)\n",
    "lgb_model.fit(X_train, y_train)\n",
    "lgb_pred = lgb_model.predict(X_test)\n",
    "\n",
    "print(\"\\nLightGBM 分类报告：\")\n",
    "print(classification_report(y_test, lgb_pred))\n",
    "print(\"LightGBM 混淆矩阵：\")\n",
    "print(confusion_matrix(y_test, lgb_pred))\n",
    "\n",
    "lgb_accuracy = accuracy_score(y_test, lgb_pred)\n",
    "lgb_precision = precision_score(y_test, lgb_pred)\n",
    "lgb_recall = recall_score(y_test, lgb_pred)\n",
    "lgb_f1 = f1_score(y_test, lgb_pred)\n",
    "print(\"LightGBM 模型评估指标：\")\n",
    "print(f\"准确率: {lgb_accuracy:.4f}\")\n",
    "print(f\"精确率: {lgb_precision:.4f}\")\n",
    "print(f\"召回率: {lgb_recall:.4f}\")\n",
    "print(f\"F1 值: {lgb_f1:.4f}\")"
   ]
  },
  {
   "cell_type": "markdown",
   "id": "13f1e071",
   "metadata": {},
   "source": [
    "| 模型名称 | 准确率 | 精确率（正类） | 召回率（正类） | F1值（正类） | 精确率（负类） | 召回率（负类） | F1值（负类） |\n",
    "| ---- | ---- | ---- | ---- | ---- | ---- | ---- | ---- |\n",
    "| SVM | 0.7060 | 0.0000 | 0.0000 | 0.0000 | 0.71 | 1.00 | 0.83 |\n",
    "| KNN | 0.6753 | 0.4102 | 0.2381 | 0.3013 | 0.73 | 0.86 | 0.79 |\n",
    "| 逻辑回归 | 0.7560 | 0.8571 | 0.2041 | 0.3297 | 0.75 | 0.99 | 0.85 |\n",
    "| 朴素贝叶斯 | 0.4267 | 0.3377 | 0.9887 | 0.5035 | 0.98 | 0.19 | 0.32 |\n",
    "| 决策树 | 0.6773 | 0.4564 | 0.5102 | 0.4818 | 0.79 | 0.75 | 0.77 |\n",
    "| 随机森林 | 0.7700 | 0.7857 | 0.2993 | 0.4335 | 0.77 | 0.97 | 0.86 |\n",
    "| XGBoost | 0.7473 | 0.6192 | 0.3651 | 0.4593 | 0.77 | 0.91 | 0.84 |\n",
    "| LightGBM | 0.7660 | 0.7009 | 0.3560 | 0.4722 | 0.78 | 0.94 | 0.85 | "
   ]
  },
  {
   "cell_type": "markdown",
   "id": "cd6c74f2",
   "metadata": {},
   "source": [
    "auc留到后续介绍\n",
    "\n",
    "PS: 我的感觉，auc是纯纯的垃圾指标 svm是纯纯的垃圾算法 "
   ]
  }
 ],
 "metadata": {
  "kernelspec": {
   "display_name": "DL",
   "language": "python",
   "name": "python3"
  },
  "language_info": {
   "codemirror_mode": {
    "name": "ipython",
    "version": 3
   },
   "file_extension": ".py",
   "mimetype": "text/x-python",
   "name": "python",
   "nbconvert_exporter": "python",
   "pygments_lexer": "ipython3",
   "version": "3.9.16"
  }
 },
 "nbformat": 4,
 "nbformat_minor": 5
}
