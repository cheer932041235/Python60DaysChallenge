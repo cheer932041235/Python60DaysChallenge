{
 "cells": [
  {
   "cell_type": "markdown",
   "metadata": {},
   "source": [
    "# DAY1\n"
   ]
  },
  {
   "cell_type": "markdown",
   "metadata": {},
   "source": [
    "## 了解变量与输出"
   ]
  },
  {
   "cell_type": "code",
   "execution_count": 2,
   "metadata": {},
   "outputs": [
    {
     "name": "stdout",
     "output_type": "stream",
     "text": [
      "1\n",
      "1\n",
      "1\n"
     ]
    }
   ],
   "source": [
    "a=1\n",
    "b=1\n",
    "c=1\n",
    "print(a)\n",
    "print(b)\n",
    "print(c)\n"
   ]
  },
  {
   "cell_type": "code",
   "execution_count": 6,
   "metadata": {},
   "outputs": [
    {
     "name": "stdout",
     "output_type": "stream",
     "text": [
      "1 2 3\n",
      "\n"
     ]
    }
   ],
   "source": [
    "a,b,c=1,2,3\n",
    "print(a,b,c)\n",
    "# print(a b c)\n",
    "print()"
   ]
  },
  {
   "cell_type": "code",
   "execution_count": 8,
   "metadata": {},
   "outputs": [
    {
     "name": "stdout",
     "output_type": "stream",
     "text": [
      "1\n",
      "2\n",
      "3\n"
     ]
    }
   ],
   "source": [
    "print(a)\n",
    "print(b)\n",
    "print(c)"
   ]
  },
  {
   "cell_type": "code",
   "execution_count": 9,
   "metadata": {},
   "outputs": [
    {
     "name": "stdout",
     "output_type": "stream",
     "text": [
      "1\n",
      "2\n",
      "3\n"
     ]
    }
   ],
   "source": [
    "a,b,c=1,2,3\n",
    "print(a, b, c, sep='\\n')  # 用换行符作为分隔符"
   ]
  },
  {
   "cell_type": "markdown",
   "metadata": {},
   "source": [
    "print()解读一下他的参数\n",
    "\n",
    "这里有默认参数"
   ]
  },
  {
   "cell_type": "code",
   "execution_count": null,
   "metadata": {},
   "outputs": [],
   "source": []
  },
  {
   "cell_type": "markdown",
   "metadata": {},
   "source": [
    "## 格式化字符串\n"
   ]
  },
  {
   "cell_type": "code",
   "execution_count": 1,
   "metadata": {},
   "outputs": [
    {
     "name": "stdout",
     "output_type": "stream",
     "text": [
      "我的名字是小明，我住在北京。\n"
     ]
    }
   ],
   "source": [
    "name = \"小明\"\n",
    "city = \"北京\"\n",
    "print(f\"我的名字是{name}，我住在{city}。\")"
   ]
  },
  {
   "cell_type": "code",
   "execution_count": null,
   "metadata": {},
   "outputs": [
    {
     "name": "stdout",
     "output_type": "stream",
     "text": [
      "姓名: \"小明\", 城市: 北京\n"
     ]
    }
   ],
   "source": [
    "# 姓名两侧加上引号如何写？\n",
    "name = \"小明\"\n",
    "city = \"北京\"\n",
    "print(f'姓名: \"{name}\", 城市: {city}')"
   ]
  },
  {
   "cell_type": "code",
   "execution_count": 3,
   "metadata": {},
   "outputs": [
    {
     "name": "stdout",
     "output_type": "stream",
     "text": [
      "姓名: \"小明\"\n",
      "城市: 北京\n"
     ]
    }
   ],
   "source": [
    "print(f'姓名: \"{name}\"\\n城市: {city}')"
   ]
  },
  {
   "cell_type": "markdown",
   "metadata": {},
   "source": [
    "## 变量的基础运算"
   ]
  },
  {
   "cell_type": "code",
   "execution_count": 5,
   "metadata": {},
   "outputs": [
    {
     "name": "stdout",
     "output_type": "stream",
     "text": [
      "20 加 8 的结果是：28\n",
      "20 除以 8 的商是：2.5\n",
      "20 除以 8 的余数是：4\n"
     ]
    }
   ],
   "source": [
    "## 变量的基础运算\n",
    "num1 = 20\n",
    "num2 = 8\n",
    "\n",
    "a = num1 + num2  # 计算和\n",
    "b = num1 / num2  # 计算商\n",
    "c = num1 % num2  # 计算余数\n",
    "\n",
    "# 使用f-string分三行打印结果\n",
    "print(f\"{num1} 加 {num2} 的结果是：{a}\")\n",
    "print(f\"{num1} 除以 {num2} 的商是：{b}\") \n",
    "print(f\"{num1} 除以 {num2} 的余数是：{c}\")"
   ]
  },
  {
   "cell_type": "code",
   "execution_count": 6,
   "metadata": {},
   "outputs": [
    {
     "name": "stdout",
     "output_type": "stream",
     "text": [
      "最终价格是: 15.92\n",
      "节省金额是: 3.98\n"
     ]
    }
   ],
   "source": [
    "price = 19.9\n",
    "discount = 0.8\n",
    "\n",
    "final_price = price * discount  # 计算折扣后价格\n",
    "saved_amount = price - final_price  # 计算节省金额\n",
    "\n",
    "# 使用f-string分两行打印结果\n",
    "print(f\"最终价格是: {final_price:.2f}\")\n",
    "print(f\"节省金额是: {saved_amount:.2f}\")"
   ]
  },
  {
   "cell_type": "markdown",
   "metadata": {},
   "source": [
    "## 第二天任务"
   ]
  },
  {
   "cell_type": "code",
   "execution_count": 7,
   "metadata": {},
   "outputs": [
    {
     "name": "stdout",
     "output_type": "stream",
     "text": [
      "拼接结果: Hello Python\n",
      "字符串长度: 12\n",
      "第一个字符: H\n",
      "第二个字符: e\n",
      "最后一个字符是: n\n"
     ]
    }
   ],
   "source": [
    "# 字符串的操作\n",
    "str1 = \"Hello\"\n",
    "str2 = \"Python\"\n",
    "\n",
    "# 字符串拼接（中间加空格）\n",
    "greeting = str1 + \" \" + str2\n",
    "\n",
    "# 计算字符串长度\n",
    "length = len(greeting)\n",
    "\n",
    "# 获取字符串中的字符\n",
    "first_char = greeting[0]\n",
    "second_char = greeting[1]\n",
    "last_char = greeting[-1]  # 使用-1获取最后一个字符\n",
    "\n",
    "# 使用f-string分三行打印结果\n",
    "print(f\"拼接结果: {greeting}\")\n",
    "print(f\"字符串长度: {length}\")\n",
    "print(f\"第一个字符: {first_char}\")\n",
    "print(f\"第二个字符: {second_char}\")\n",
    "print(f\"最后一个字符是: {last_char}\")"
   ]
  },
  {
   "cell_type": "code",
   "execution_count": 8,
   "metadata": {},
   "outputs": [
    {
     "name": "stdout",
     "output_type": "stream",
     "text": [
      "75 是否大于 90: False\n",
      "75 是否小于等于 90: True\n",
      "75 是否不等于 90: True\n"
     ]
    }
   ],
   "source": [
    "# 定义变量\n",
    "score_a = 75\n",
    "score_b = 90\n",
    "\n",
    "# 比较运算\n",
    "is_a_higher = score_a > score_b\n",
    "is_a_lower_or_equal = score_a <= score_b\n",
    "is_different = score_a != score_b\n",
    "\n",
    "# 使用f-string打印比较结果\n",
    "print(f\"{score_a} 是否大于 {score_b}: {is_a_higher}\")\n",
    "print(f\"{score_a} 是否小于等于 {score_b}: {is_a_lower_or_equal}\")\n",
    "print(f\"{score_a} 是否不等于 {score_b}: {is_different}\")"
   ]
  },
  {
   "cell_type": "markdown",
   "metadata": {},
   "source": [
    "## 第三天任务"
   ]
  },
  {
   "cell_type": "markdown",
   "metadata": {},
   "source": [
    "## 列表的基础操作"
   ]
  },
  {
   "cell_type": "code",
   "execution_count": 9,
   "metadata": {},
   "outputs": [
    {
     "name": "stdout",
     "output_type": "stream",
     "text": [
      "第一个技术是: Python\n",
      "当前列表长度: 3\n",
      "最终列表内容: ['Python', 'Ruby', 'JavaScript']\n"
     ]
    }
   ],
   "source": [
    "# 1. 创建包含三个字符串的列表\n",
    "tech_list = [\"Python\", \"Java\", \"Go\"]\n",
    "\n",
    "# 2. 获取第一个元素\n",
    "first_tech = tech_list[0]\n",
    "\n",
    "# 3. 向列表末尾添加新元素\n",
    "tech_list.append(\"JavaScript\")\n",
    "\n",
    "# 4. 修改第二个元素\n",
    "tech_list[1] = \"Ruby\"\n",
    "\n",
    "# 5. 移除元素\"Go\"\n",
    "tech_list.remove(\"Go\")\n",
    "\n",
    "# 6. 计算列表当前长度\n",
    "current_length = len(tech_list)\n",
    "\n",
    "# 7. 使用f-string打印结果\n",
    "print(f\"第一个技术是: {first_tech}\")\n",
    "print(f\"当前列表长度: {current_length}\")\n",
    "print(f\"最终列表内容: {tech_list}\")"
   ]
  },
  {
   "cell_type": "markdown",
   "metadata": {},
   "source": [
    "## 循环语句"
   ]
  },
  {
   "cell_type": "code",
   "execution_count": 10,
   "metadata": {},
   "outputs": [
    {
     "name": "stdout",
     "output_type": "stream",
     "text": [
      "1到100的和是: 5050\n"
     ]
    }
   ],
   "source": [
    "# 初始化总和变量\n",
    "total = 0\n",
    "\n",
    "# 使用for循环累加1到100\n",
    "for num in range(1, 101):  # range(1,101)表示从1到100（包含100）\n",
    "    total += num\n",
    "\n",
    "# 打印结果\n",
    "print(f\"1到100的和是: {total}\")"
   ]
  },
  {
   "cell_type": "markdown",
   "metadata": {},
   "source": [
    "## 判断语句"
   ]
  },
  {
   "cell_type": "code",
   "execution_count": 11,
   "metadata": {},
   "outputs": [
    {
     "name": "stdout",
     "output_type": "stream",
     "text": [
      "绿色提示：适宜温度\n"
     ]
    }
   ],
   "source": [
    "\n",
    "temperature = 25  # 可以修改这个值测试不同情况\n",
    "\n",
    "if temperature > 35:\n",
    "    print(\"红色预警：高温天气！\")\n",
    "elif temperature >= 28:\n",
    "    print(\"黄色预警：天气炎热\")\n",
    "elif temperature >= 20:\n",
    "    print(\"绿色提示：适宜温度\")\n",
    "else:\n",
    "    print(\"蓝色预警：注意保暖\")"
   ]
  },
  {
   "cell_type": "code",
   "execution_count": 12,
   "metadata": {},
   "outputs": [
    {
     "name": "stdout",
     "output_type": "stream",
     "text": [
      "优秀分数个数: 2\n",
      "分数总和: 503\n",
      "平均分数: 83.833\n"
     ]
    }
   ],
   "source": [
    "# 1. 定义分数列表\n",
    "scores = [85, 92, 78, 65, 95, 88]\n",
    "\n",
    "# 2. 初始化变量\n",
    "excellent_count = 0\n",
    "total_score = 0\n",
    "\n",
    "# 3. 遍历列表并计算\n",
    "for score in scores:\n",
    "    total_score += score  # 4a. 累加总分\n",
    "    if score >= 90:      # 4b. 统计优秀分数\n",
    "        excellent_count += 1\n",
    "\n",
    "# 5. 计算平均分\n",
    "average_score = total_score / len(scores)\n",
    "\n",
    "# 6. 打印结果\n",
    "print(f\"优秀分数个数: {excellent_count}\")\n",
    "print(f\"分数总和: {total_score}\")\n",
    "print(f\"平均分数: {average_score:.3f}\")"
   ]
  }
 ],
 "metadata": {
  "kernelspec": {
   "display_name": "vs",
   "language": "python",
   "name": "python3"
  },
  "language_info": {
   "codemirror_mode": {
    "name": "ipython",
    "version": 3
   },
   "file_extension": ".py",
   "mimetype": "text/x-python",
   "name": "python",
   "nbconvert_exporter": "python",
   "pygments_lexer": "ipython3",
   "version": "3.8.18"
  }
 },
 "nbformat": 4,
 "nbformat_minor": 2
}
